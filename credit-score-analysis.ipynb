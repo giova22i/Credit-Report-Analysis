{
 "cells": [
  {
   "cell_type": "markdown",
   "metadata": {},
   "source": [
    "# Analyzing borrowers’ risk of defaulting\n",
    "\n",
    "Your project is to prepare a report for a bank’s loan division. You’ll need to find out if a customer’s marital status and number of children has an impact on whether they will default on a loan. The bank already has some data on customers’ credit worthiness.\n",
    "\n",
    "Your report will be considered when building a **credit scoring** of a potential customer. A ** credit scoring ** is used to evaluate the ability of a potential borrower to repay their loan."
   ]
  },
  {
   "cell_type": "markdown",
   "metadata": {},
   "source": [
    "## Open the data file and have a look at the general information. "
   ]
  },
  {
   "cell_type": "code",
   "execution_count": 1,
   "metadata": {},
   "outputs": [
    {
     "name": "stdout",
     "output_type": "stream",
     "text": [
      "<class 'pandas.core.frame.DataFrame'>\n",
      "RangeIndex: 21525 entries, 0 to 21524\n",
      "Data columns (total 12 columns):\n",
      "children            21525 non-null int64\n",
      "days_employed       19351 non-null float64\n",
      "dob_years           21525 non-null int64\n",
      "education           21525 non-null object\n",
      "education_id        21525 non-null int64\n",
      "family_status       21525 non-null object\n",
      "family_status_id    21525 non-null int64\n",
      "gender              21525 non-null object\n",
      "income_type         21525 non-null object\n",
      "debt                21525 non-null int64\n",
      "total_income        19351 non-null float64\n",
      "purpose             21525 non-null object\n",
      "dtypes: float64(2), int64(5), object(5)\n",
      "memory usage: 2.0+ MB\n"
     ]
    }
   ],
   "source": [
    "#Open and read datafile\n",
    "import pandas as pd\n",
    "df = pd.read_csv('/datasets/credit_scoring_eng.csv')\n",
    "\n",
    "#Look at general info\n",
    "df.info()\n",
    "\n"
   ]
  },
  {
   "cell_type": "markdown",
   "metadata": {},
   "source": [
    "# Conclusion"
   ]
  },
  {
   "cell_type": "markdown",
   "metadata": {},
   "source": [
    "The data file consists of 21525 entries and a total of 12 columns. There are missing quantitative values within the 'days_employed' and 'total_income' columns. Both columns contain values with the float64 datatype. The 'days_employed' column also contains negative values. These negative values most likely represent the amount of days that a customer has been unemployed. "
   ]
  },
  {
   "cell_type": "markdown",
   "metadata": {},
   "source": [
    "## Data preprocessing"
   ]
  },
  {
   "cell_type": "markdown",
   "metadata": {},
   "source": [
    "### Processing missing values"
   ]
  },
  {
   "cell_type": "code",
   "execution_count": 2,
   "metadata": {},
   "outputs": [
    {
     "name": "stdout",
     "output_type": "stream",
     "text": [
      "Total income missing values count: 2174\n",
      "Days employed missing values count: 2174\n",
      "\n",
      "Average income: 26787.56835465867\n",
      "Median income: 23202.87\n",
      "\n",
      "Average days employed: 63046.49766147338\n",
      "Median days employed: -1203.369528770489\n",
      "\n",
      "Total income column missing values count: 0\n",
      "Days employed column missing values count: 0\n",
      "\n",
      "<class 'pandas.core.frame.DataFrame'>\n",
      "RangeIndex: 21525 entries, 0 to 21524\n",
      "Data columns (total 12 columns):\n",
      "children            21525 non-null int64\n",
      "days_employed       21525 non-null float64\n",
      "dob_years           21525 non-null int64\n",
      "education           21525 non-null object\n",
      "education_id        21525 non-null int64\n",
      "family_status       21525 non-null object\n",
      "family_status_id    21525 non-null int64\n",
      "gender              21525 non-null object\n",
      "income_type         21525 non-null object\n",
      "debt                21525 non-null int64\n",
      "total_income        21525 non-null float64\n",
      "purpose             21525 non-null object\n",
      "dtypes: float64(2), int64(5), object(5)\n",
      "memory usage: 2.0+ MB\n"
     ]
    }
   ],
   "source": [
    "#Finding total missing values\n",
    "print(\"Total income missing values count:\",df['total_income'].isnull().sum())\n",
    "print(\"Days employed missing values count:\",df['days_employed'].isnull().sum())\n",
    "print()\n",
    "\n",
    "#Finding median and mean\n",
    "median_income = df['total_income'].median()\n",
    "avg_income = df['total_income'].mean()\n",
    "\n",
    "print(\"Average income:\",avg_income)\n",
    "print(\"Median income:\",median_income)\n",
    "print()\n",
    "\n",
    "avg_days_employed = df['days_employed'].mean()\n",
    "median_days = df['days_employed'].median()\n",
    "print(\"Average days employed:\",avg_days_employed)\n",
    "print(\"Median days employed:\",median_days)\n",
    "\n",
    "#Filling in values\n",
    "df['total_income'].fillna(median_income,inplace=True)\n",
    "df['days_employed'].fillna(avg_income,inplace=True)\n",
    "print()\n",
    "\n",
    "#Conclusion\n",
    "print(\"Total income column missing values count:\",df['total_income'].isna().sum())\n",
    "print(\"Days employed column missing values count:\", df['days_employed'].isna().sum())\n",
    "print()\n",
    "\n",
    "df.info()\n",
    "\n"
   ]
  },
  {
   "cell_type": "markdown",
   "metadata": {},
   "source": [
    "### Conclusion"
   ]
  },
  {
   "cell_type": "markdown",
   "metadata": {},
   "source": [
    "There are 2174 missing values each in both the 'total_income' and 'days_employed' columns. The fillna() method was used on each column. For the 'total_income' column, either the mean or the median could've been used to fill in the missing values. For the 'days_employed' column the mean was used to fill in the values because there are significant outliers that may skew our data. Possible reasons for the missing values may be human errors while filling out a loan application such as blank values, etc. "
   ]
  },
  {
   "cell_type": "markdown",
   "metadata": {},
   "source": [
    "### Data type replacement"
   ]
  },
  {
   "cell_type": "code",
   "execution_count": 3,
   "metadata": {},
   "outputs": [
    {
     "name": "stdout",
     "output_type": "stream",
     "text": [
      "<class 'pandas.core.frame.DataFrame'>\n",
      "RangeIndex: 21525 entries, 0 to 21524\n",
      "Data columns (total 12 columns):\n",
      "children            21525 non-null int64\n",
      "days_employed       21525 non-null float64\n",
      "dob_years           21525 non-null int64\n",
      "education           21525 non-null object\n",
      "education_id        21525 non-null int64\n",
      "family_status       21525 non-null object\n",
      "family_status_id    21525 non-null int64\n",
      "gender              21525 non-null object\n",
      "income_type         21525 non-null object\n",
      "debt                21525 non-null int64\n",
      "total_income        21525 non-null float64\n",
      "purpose             21525 non-null object\n",
      "dtypes: float64(2), int64(5), object(5)\n",
      "memory usage: 2.0+ MB\n",
      "\n",
      "days_employed column changed to \"int\" datatype\n",
      "\n",
      "total_income column changed to \"int\" datatype\n",
      "\n",
      "<class 'pandas.core.frame.DataFrame'>\n",
      "RangeIndex: 21525 entries, 0 to 21524\n",
      "Data columns (total 12 columns):\n",
      "children            21525 non-null int64\n",
      "days_employed       21525 non-null int64\n",
      "dob_years           21525 non-null int64\n",
      "education           21525 non-null object\n",
      "education_id        21525 non-null int64\n",
      "family_status       21525 non-null object\n",
      "family_status_id    21525 non-null int64\n",
      "gender              21525 non-null object\n",
      "income_type         21525 non-null object\n",
      "debt                21525 non-null int64\n",
      "total_income        21525 non-null int64\n",
      "purpose             21525 non-null object\n",
      "dtypes: int64(7), object(5)\n",
      "memory usage: 2.0+ MB\n"
     ]
    }
   ],
   "source": [
    "df.info()\n",
    "\n",
    "#Changing data types to integer\n",
    "try:\n",
    "    df['days_employed'].to_numeric()\n",
    "except:\n",
    "    df['days_employed'] = df['days_employed'].astype('int')\n",
    "    print()\n",
    "    print('days_employed column changed to \"int\" datatype')\n",
    "try:\n",
    "    df['days_employed'].to_numeric()\n",
    "except:\n",
    "    df['total_income'] = df['total_income'].astype('int')\n",
    "    print()\n",
    "    print('total_income column changed to \"int\" datatype')\n",
    "\n",
    "print()\n",
    "df.info()\n"
   ]
  },
  {
   "cell_type": "markdown",
   "metadata": {},
   "source": [
    "### Conclusion"
   ]
  },
  {
   "cell_type": "markdown",
   "metadata": {},
   "source": [
    "The data types were float-64. Used a try-except clause with the to_numeric() and astype() methods on both columns. The to_numeric() code crashed because both columns contained no string values. Using ('int') as the astype() method's argument, the column data types were converted to the integer type. The astype() method was used in the except because the columns contained quantitative values as opposed to categorical values."
   ]
  },
  {
   "cell_type": "markdown",
   "metadata": {},
   "source": [
    "### Processing duplicates"
   ]
  },
  {
   "cell_type": "code",
   "execution_count": 4,
   "metadata": {},
   "outputs": [
    {
     "name": "stdout",
     "output_type": "stream",
     "text": [
      "Total duplicates: 54\n",
      "Total duplicates: 0\n"
     ]
    }
   ],
   "source": [
    "#Finding total number of duplicates in entire dataframe\n",
    "print(\"Total duplicates:\",df.duplicated().sum())\n",
    "\n",
    "#Deleting duplicates\n",
    "df = df.drop_duplicates()\n",
    "\n",
    "print(\"Total duplicates:\",df.duplicated().sum())\n",
    "\n",
    "\n",
    "\n",
    "\n",
    "\n"
   ]
  },
  {
   "cell_type": "markdown",
   "metadata": {},
   "source": [
    "### Conclusion"
   ]
  },
  {
   "cell_type": "markdown",
   "metadata": {},
   "source": [
    "The duplicated() method was used together with sum() to get the number of duplicate values in the entire dataframe rather than each column. The dataframe was found to have 54 duplicates, which were subsequently dropped using the drop_duplicates() method. A possible reason for the appearance of duplicates is that customers may have applied several times for a loan with the same information.\n"
   ]
  },
  {
   "cell_type": "markdown",
   "metadata": {},
   "source": [
    "### Categorizing Data"
   ]
  },
  {
   "cell_type": "code",
   "execution_count": 5,
   "metadata": {},
   "outputs": [],
   "source": [
    "#Creating function to categorize income level\n",
    "def income_level(income):\n",
    "    if income <= 50000:\n",
    "        return 'low income'\n",
    "    if income <= 150000:\n",
    "        return 'middle class'\n",
    "    if income > 150000:\n",
    "        return 'high income'\n",
    "\n",
    "#Adding new column 'income_level'\n",
    "df['income_level'] = df['total_income'].apply(income_level)\n",
    "\n",
    "#Creating function to categorize customers with children\n",
    "def has_children(number):\n",
    "    if number <= 0:\n",
    "        return \"No\"\n",
    "    elif number > 0:\n",
    "        return \"Yes\"\n",
    "\n",
    "df['has_children'] = df['children'].apply(has_children)\n",
    "\n",
    "\n",
    "\n",
    "\n",
    "\n"
   ]
  },
  {
   "cell_type": "markdown",
   "metadata": {},
   "source": [
    "# Conclusion"
   ]
  },
  {
   "cell_type": "markdown",
   "metadata": {},
   "source": [
    "To find the relevant data, the data needs to be categorized and organized  into groups according to specific criteria in order to draw meaningful conclusions. The income_level and has_children were created and added to the dataframe using the apply() method.  "
   ]
  },
  {
   "cell_type": "markdown",
   "metadata": {},
   "source": [
    "## Answer these questions"
   ]
  },
  {
   "cell_type": "markdown",
   "metadata": {},
   "source": [
    "- Is there a relation between having kids and repaying a loan on time?"
   ]
  },
  {
   "cell_type": "code",
   "execution_count": 6,
   "metadata": {},
   "outputs": [
    {
     "name": "stdout",
     "output_type": "stream",
     "text": [
      "No     14154\n",
      "Yes     7317\n",
      "Name: has_children, dtype: int64\n",
      "\n",
      "has_children    No  Yes\n",
      "debt          1064  677\n"
     ]
    }
   ],
   "source": [
    "#categorizing data to find correlation between children and debt\n",
    "\n",
    "\n",
    "print(df['has_children'].value_counts())\n",
    "print()\n",
    "\n",
    "\n",
    "print(pd.pivot_table(df,columns='has_children',values='debt',aggfunc='sum'))\n"
   ]
  },
  {
   "cell_type": "markdown",
   "metadata": {},
   "source": [
    "According to the description of the data given, the debt column refers to whether the customer has ever defaulted on a loan. The 'debt' column only contains 0 and 1 values corresponding to 'no' and 'yes' responses. Creating a pivot table with the aggfunc parameter set to 'sum', we can aggregate the total 'yes' responses with the 'has_children' columns to get the relevant data. Looking at the data, there is no significant relation between having children and defaulting a loan.  "
   ]
  },
  {
   "cell_type": "markdown",
   "metadata": {},
   "source": [
    "### Conclusion"
   ]
  },
  {
   "cell_type": "markdown",
   "metadata": {},
   "source": [
    "Customers with children significantly outnumber customers without children in paying loans on time."
   ]
  },
  {
   "cell_type": "markdown",
   "metadata": {},
   "source": [
    "- Is there a relation between marital status and repaying a loan on time?"
   ]
  },
  {
   "cell_type": "code",
   "execution_count": 7,
   "metadata": {},
   "outputs": [
    {
     "name": "stdout",
     "output_type": "stream",
     "text": [
      "married              12344\n",
      "civil partnership     4163\n",
      "unmarried             2810\n",
      "divorced              1195\n",
      "widow / widower        959\n",
      "Name: family_status, dtype: int64\n",
      "\n",
      "                   debt\n",
      "family_status          \n",
      "civil partnership   388\n",
      "divorced             85\n",
      "married             931\n",
      "unmarried           274\n",
      "widow / widower      63\n"
     ]
    }
   ],
   "source": [
    "#categorizing data to find correlation between marital_status and debt\n",
    "\n",
    "print(df['family_status'].value_counts())\n",
    "\n",
    "print()\n",
    "\n",
    "print(pd.pivot_table(df,index='family_status',values='debt',aggfunc='sum'))\n",
    "\n",
    "\n"
   ]
  },
  {
   "cell_type": "markdown",
   "metadata": {},
   "source": [
    "According to the pivot table, married customers defaulted on a loan the most out of each marital status, followed by customers in a civil partnership. Using the value_counts() method on the family_status column, we can see that married customers are the majority of the applicants for a loan."
   ]
  },
  {
   "cell_type": "markdown",
   "metadata": {},
   "source": [
    "### Conclusion"
   ]
  },
  {
   "cell_type": "markdown",
   "metadata": {},
   "source": [
    "- Is there a relation between income level and repaying a loan on time?"
   ]
  },
  {
   "cell_type": "code",
   "execution_count": 8,
   "metadata": {},
   "outputs": [
    {
     "name": "stdout",
     "output_type": "stream",
     "text": [
      "low income      20151\n",
      "middle class     1292\n",
      "high income        28\n",
      "Name: income_level, dtype: int64\n",
      "\n",
      "income_level  high income  low income  middle class\n",
      "debt                    2        1649            90\n"
     ]
    }
   ],
   "source": [
    "#categorizing data to find correlation between income level and debt\n",
    "\n",
    "print(df['income_level'].value_counts())\n",
    "print()\n",
    "print(pd.pivot_table(df,columns='income_level',values='debt',aggfunc='sum'))\n",
    "\n"
   ]
  },
  {
   "cell_type": "markdown",
   "metadata": {},
   "source": [
    "According to the pivot table, we can see a correlation between income level and repaying a loan on time. The majority of applicants were low income (20k) and customers that defaulted were of a lower income level.  "
   ]
  },
  {
   "cell_type": "markdown",
   "metadata": {},
   "source": [
    "### Conclusion"
   ]
  },
  {
   "cell_type": "markdown",
   "metadata": {},
   "source": [
    "- How do different loan purposes affect on-time repayment of the loan?"
   ]
  },
  {
   "cell_type": "code",
   "execution_count": 9,
   "metadata": {},
   "outputs": [
    {
     "name": "stdout",
     "output_type": "stream",
     "text": [
      "purpose\n",
      "wedding ceremony                            64\n",
      "having a wedding                            64\n",
      "to have a wedding                           58\n",
      "real estate transactions                    55\n",
      "building a property                         54\n",
      "buying property for renting out             52\n",
      "transactions with commercial real estate    52\n",
      "to get a supplementary education            51\n",
      "second-hand car purchase                    51\n",
      "transactions with my real estate            50\n",
      "purchase of a car                           50\n",
      "building a real estate                      48\n",
      "housing transactions                        48\n",
      "to own a car                                48\n",
      "purchase of the house                       48\n",
      "buy commercial real estate                  47\n",
      "buying my own car                           46\n",
      "housing                                     46\n",
      "getting higher education                    46\n",
      "purchase of the house for my family         45\n",
      "cars                                        44\n",
      "profile education                           44\n",
      "to buy a car                                44\n",
      "buy real estate                             43\n",
      "going to university                         43\n",
      "car                                         42\n",
      "car purchase                                42\n",
      "construction of own property                42\n",
      "property                                    42\n",
      "buy residential real estate                 41\n",
      "university education                        40\n",
      "to become educated                          39\n",
      "supplementary education                     38\n",
      "getting an education                        37\n",
      "buying a second-hand car                    36\n",
      "housing renovation                          35\n",
      "purchase of my own house                    34\n",
      "education                                   32\n",
      "Name: debt, dtype: int64\n"
     ]
    },
    {
     "data": {
      "text/html": [
       "<div>\n",
       "<style scoped>\n",
       "    .dataframe tbody tr th:only-of-type {\n",
       "        vertical-align: middle;\n",
       "    }\n",
       "\n",
       "    .dataframe tbody tr th {\n",
       "        vertical-align: top;\n",
       "    }\n",
       "\n",
       "    .dataframe thead th {\n",
       "        text-align: right;\n",
       "    }\n",
       "</style>\n",
       "<table border=\"1\" class=\"dataframe\">\n",
       "  <thead>\n",
       "    <tr style=\"text-align: right;\">\n",
       "      <th></th>\n",
       "      <th>debt</th>\n",
       "    </tr>\n",
       "    <tr>\n",
       "      <th>purpose_category</th>\n",
       "      <th></th>\n",
       "    </tr>\n",
       "  </thead>\n",
       "  <tbody>\n",
       "    <tr>\n",
       "      <td>car purchase</td>\n",
       "      <td>403</td>\n",
       "    </tr>\n",
       "    <tr>\n",
       "      <td>education</td>\n",
       "      <td>370</td>\n",
       "    </tr>\n",
       "    <tr>\n",
       "      <td>housing</td>\n",
       "      <td>782</td>\n",
       "    </tr>\n",
       "    <tr>\n",
       "      <td>wedding</td>\n",
       "      <td>186</td>\n",
       "    </tr>\n",
       "  </tbody>\n",
       "</table>\n",
       "</div>"
      ],
      "text/plain": [
       "                  debt\n",
       "purpose_category      \n",
       "car purchase       403\n",
       "education          370\n",
       "housing            782\n",
       "wedding            186"
      ]
     },
     "execution_count": 9,
     "metadata": {},
     "output_type": "execute_result"
    }
   ],
   "source": [
    "print(df.groupby('purpose')['debt'].sum().sort_values(ascending=False))\n",
    "\n",
    "import pandas as pd\n",
    "from nltk.stem import SnowballStemmer\n",
    "english_stemmer = SnowballStemmer('english')\n",
    "\n",
    "def categorize(purpose):\n",
    "    for word in purpose.split(' '):\n",
    "        stem = english_stemmer.stem(word)\n",
    "        if stem == 'hous' or stem == 'estat' or stem == 'properti':\n",
    "            return 'housing'\n",
    "        if stem == 'car':\n",
    "            return 'car purchase'\n",
    "        if stem == 'educ' or stem == 'univers':\n",
    "            return 'education'\n",
    "        if stem == 'wed':\n",
    "            return 'wedding'\n",
    "    \n",
    "    return 'unknown'\n",
    "\n",
    "\n",
    "df['purpose_category'] = df['purpose'].apply(categorize)\n",
    "\n",
    "df.pivot_table(index='purpose_category',values='debt',aggfunc='sum')\n",
    "\n",
    "\n"
   ]
  },
  {
   "cell_type": "markdown",
   "metadata": {},
   "source": [
    "### Conclusion"
   ]
  },
  {
   "cell_type": "markdown",
   "metadata": {},
   "source": [
    "The 'purpose' column was divided into categories by stemmming. The loan purposes with the most loan defaults were housing related."
   ]
  },
  {
   "cell_type": "markdown",
   "metadata": {},
   "source": [
    "## General conclusion"
   ]
  },
  {
   "cell_type": "markdown",
   "metadata": {},
   "source": [
    "The data file consists of 21525 entries and a total of 12 columns. There are missing quantitative values within the 'days_employed' and 'total_income' columns, with each column's datatype being float-64. Possible reasons for the missing values may be human errors while filling out a loan application such as blank values, etc. The missing values were filled in using the fillna() method. The column's datatypes were changed to int using the astype() method. The dataframe was found to have 54 duplicates, which were subsequently dropped using the drop_duplicates() method. A possible reason for the appearance of duplicates is that customers may have applied several times for a loan with the same information.\n",
    "\n",
    "To find the relevant data, the data needs to be categorized and organized  into groups according to specific criteria in order to draw meaningful conclusions. The income_level and has_children were created and added to the dataframe using the apply() method.  According to the categorized data, there is no significant relation between having children and defaulting a loan. Married customers defaulted on a loan the most out of each marital status, followed by customers in a civil partnership. The majority of applicants were low income and customers that defaulted were of a lower income level. The loan purposes with the most loan defaults were car related.\n"
   ]
  }
 ],
 "metadata": {
  "ExecuteTimeLog": [
   {
    "duration": 681,
    "start_time": "2021-10-23T21:19:33.341Z"
   },
   {
    "duration": 386,
    "start_time": "2021-10-23T21:27:31.914Z"
   },
   {
    "duration": 55,
    "start_time": "2021-10-23T21:27:38.858Z"
   },
   {
    "duration": 48,
    "start_time": "2021-10-23T21:27:45.061Z"
   },
   {
    "duration": 467,
    "start_time": "2021-10-23T21:28:07.572Z"
   },
   {
    "duration": 49,
    "start_time": "2021-10-23T21:28:11.458Z"
   },
   {
    "duration": 62,
    "start_time": "2021-10-23T21:30:13.228Z"
   },
   {
    "duration": 68,
    "start_time": "2021-10-23T21:30:22.620Z"
   },
   {
    "duration": 61,
    "start_time": "2021-10-23T21:30:40.432Z"
   },
   {
    "duration": 62,
    "start_time": "2021-10-23T21:30:46.904Z"
   },
   {
    "duration": 49,
    "start_time": "2021-10-23T21:30:54.786Z"
   },
   {
    "duration": 53,
    "start_time": "2021-10-23T21:53:47.841Z"
   },
   {
    "duration": 53,
    "start_time": "2021-10-23T21:54:00.582Z"
   },
   {
    "duration": 93,
    "start_time": "2021-10-23T21:54:18.674Z"
   },
   {
    "duration": 50,
    "start_time": "2021-10-23T21:54:27.550Z"
   },
   {
    "duration": 56,
    "start_time": "2021-10-23T21:54:44.936Z"
   },
   {
    "duration": 50,
    "start_time": "2021-10-23T21:57:15.056Z"
   },
   {
    "duration": 5,
    "start_time": "2021-10-23T21:58:14.220Z"
   },
   {
    "duration": 6,
    "start_time": "2021-10-23T21:58:58.887Z"
   },
   {
    "duration": 5,
    "start_time": "2021-10-23T21:59:45.912Z"
   },
   {
    "duration": 5,
    "start_time": "2021-10-23T22:00:07.904Z"
   },
   {
    "duration": 8,
    "start_time": "2021-10-23T22:00:12.566Z"
   },
   {
    "duration": 88,
    "start_time": "2021-10-23T22:00:47.429Z"
   },
   {
    "duration": 9,
    "start_time": "2021-10-23T22:00:53.624Z"
   },
   {
    "duration": 9,
    "start_time": "2021-10-23T22:00:59.540Z"
   },
   {
    "duration": 93,
    "start_time": "2021-10-23T22:01:11.732Z"
   },
   {
    "duration": 5,
    "start_time": "2021-10-23T22:01:16.547Z"
   },
   {
    "duration": 10,
    "start_time": "2021-10-23T22:06:21.454Z"
   },
   {
    "duration": 13,
    "start_time": "2021-10-23T22:07:27.884Z"
   },
   {
    "duration": 715,
    "start_time": "2021-10-23T22:08:04.885Z"
   },
   {
    "duration": 13,
    "start_time": "2021-10-23T22:08:10.414Z"
   },
   {
    "duration": 11,
    "start_time": "2021-10-23T23:12:33.909Z"
   },
   {
    "duration": 11,
    "start_time": "2021-10-23T23:12:47.380Z"
   },
   {
    "duration": 12,
    "start_time": "2021-10-23T23:12:49.688Z"
   },
   {
    "duration": 627,
    "start_time": "2021-10-23T23:13:01.972Z"
   },
   {
    "duration": 13,
    "start_time": "2021-10-23T23:13:04.948Z"
   },
   {
    "duration": 12,
    "start_time": "2021-10-23T23:13:19.015Z"
   },
   {
    "duration": 13,
    "start_time": "2021-10-23T23:13:24.693Z"
   },
   {
    "duration": 635,
    "start_time": "2021-10-23T23:13:36.549Z"
   },
   {
    "duration": 12,
    "start_time": "2021-10-23T23:15:56.205Z"
   },
   {
    "duration": 335,
    "start_time": "2021-10-23T23:17:07.273Z"
   },
   {
    "duration": 284,
    "start_time": "2021-10-23T23:18:13.909Z"
   },
   {
    "duration": 12,
    "start_time": "2021-10-23T23:18:20.056Z"
   },
   {
    "duration": 295,
    "start_time": "2021-10-23T23:19:12.977Z"
   },
   {
    "duration": 15,
    "start_time": "2021-10-23T23:20:49.900Z"
   },
   {
    "duration": 14,
    "start_time": "2021-10-23T23:21:11.635Z"
   },
   {
    "duration": 12,
    "start_time": "2021-10-23T23:21:21.684Z"
   },
   {
    "duration": 290,
    "start_time": "2021-10-23T23:21:47.212Z"
   },
   {
    "duration": 303,
    "start_time": "2021-10-23T23:24:03.534Z"
   },
   {
    "duration": 655,
    "start_time": "2021-10-23T23:24:07.935Z"
   },
   {
    "duration": 9,
    "start_time": "2021-10-23T23:24:11.294Z"
   },
   {
    "duration": 11,
    "start_time": "2021-10-23T23:24:20.453Z"
   },
   {
    "duration": 10,
    "start_time": "2021-10-23T23:24:54.657Z"
   },
   {
    "duration": 9,
    "start_time": "2021-10-23T23:25:07.082Z"
   },
   {
    "duration": 9,
    "start_time": "2021-10-23T23:25:20.003Z"
   },
   {
    "duration": 9,
    "start_time": "2021-10-23T23:26:03.588Z"
   },
   {
    "duration": 8,
    "start_time": "2021-10-23T23:26:27.765Z"
   },
   {
    "duration": 7,
    "start_time": "2021-10-23T23:26:39.122Z"
   },
   {
    "duration": 9,
    "start_time": "2021-10-23T23:27:42.200Z"
   },
   {
    "duration": 10,
    "start_time": "2021-10-23T23:28:03.330Z"
   },
   {
    "duration": 10,
    "start_time": "2021-10-23T23:28:15.762Z"
   },
   {
    "duration": 9,
    "start_time": "2021-10-23T23:28:41.355Z"
   },
   {
    "duration": 17,
    "start_time": "2021-10-23T23:32:51.390Z"
   },
   {
    "duration": 4,
    "start_time": "2021-10-23T23:35:38.264Z"
   },
   {
    "duration": 12,
    "start_time": "2021-10-23T23:35:48.272Z"
   },
   {
    "duration": 14,
    "start_time": "2021-10-23T23:36:22.364Z"
   },
   {
    "duration": 21,
    "start_time": "2021-10-24T01:19:46.533Z"
   },
   {
    "duration": 18,
    "start_time": "2021-10-24T01:25:39.685Z"
   },
   {
    "duration": 36,
    "start_time": "2021-10-24T02:09:44.823Z"
   },
   {
    "duration": 36,
    "start_time": "2021-10-24T02:10:00.497Z"
   },
   {
    "duration": 36,
    "start_time": "2021-10-24T02:10:04.997Z"
   },
   {
    "duration": 35,
    "start_time": "2021-10-24T02:10:19.493Z"
   },
   {
    "duration": 650,
    "start_time": "2021-10-24T02:12:05.039Z"
   },
   {
    "duration": 431,
    "start_time": "2021-10-24T16:53:13.848Z"
   },
   {
    "duration": 725,
    "start_time": "2021-10-24T17:11:15.042Z"
   },
   {
    "duration": 55,
    "start_time": "2021-10-24T20:52:51.620Z"
   },
   {
    "duration": 57,
    "start_time": "2021-10-24T22:43:52.566Z"
   },
   {
    "duration": 59,
    "start_time": "2021-10-24T22:44:15.687Z"
   },
   {
    "duration": 56,
    "start_time": "2021-10-24T22:49:53.739Z"
   },
   {
    "duration": 642,
    "start_time": "2021-10-24T22:50:33.839Z"
   },
   {
    "duration": 317,
    "start_time": "2021-10-24T22:50:34.484Z"
   },
   {
    "duration": -75,
    "start_time": "2021-10-24T22:50:34.878Z"
   },
   {
    "duration": 22,
    "start_time": "2021-10-24T22:51:03.409Z"
   },
   {
    "duration": -190,
    "start_time": "2021-10-24T22:51:30.571Z"
   },
   {
    "duration": 16,
    "start_time": "2021-10-24T22:51:50.462Z"
   },
   {
    "duration": 6985,
    "start_time": "2021-10-24T22:52:05.100Z"
   },
   {
    "duration": 20,
    "start_time": "2021-10-24T22:52:23.254Z"
   },
   {
    "duration": 31,
    "start_time": "2021-10-24T22:52:48.665Z"
   },
   {
    "duration": 28,
    "start_time": "2021-10-24T22:53:11.006Z"
   },
   {
    "duration": 45,
    "start_time": "2021-10-24T22:56:17.889Z"
   },
   {
    "duration": 328,
    "start_time": "2021-10-24T22:57:24.519Z"
   },
   {
    "duration": 667,
    "start_time": "2021-10-24T22:57:29.727Z"
   },
   {
    "duration": 289,
    "start_time": "2021-10-24T22:57:30.395Z"
   },
   {
    "duration": -125,
    "start_time": "2021-10-24T22:57:30.811Z"
   },
   {
    "duration": 61,
    "start_time": "2021-10-24T22:57:36.501Z"
   },
   {
    "duration": 51,
    "start_time": "2021-10-24T22:58:41.230Z"
   },
   {
    "duration": 633,
    "start_time": "2021-10-24T22:59:13.143Z"
   },
   {
    "duration": 328,
    "start_time": "2021-10-24T22:59:13.779Z"
   },
   {
    "duration": -76,
    "start_time": "2021-10-24T22:59:14.184Z"
   },
   {
    "duration": 113,
    "start_time": "2021-10-24T22:59:16.049Z"
   },
   {
    "duration": 649,
    "start_time": "2021-10-25T00:21:09.928Z"
   },
   {
    "duration": 12,
    "start_time": "2021-10-25T00:21:24.099Z"
   },
   {
    "duration": 14,
    "start_time": "2021-10-25T00:22:02.694Z"
   },
   {
    "duration": 22,
    "start_time": "2021-10-25T00:22:37.431Z"
   },
   {
    "duration": 22,
    "start_time": "2021-10-25T00:24:22.776Z"
   },
   {
    "duration": 23,
    "start_time": "2021-10-25T00:24:29.915Z"
   },
   {
    "duration": 14,
    "start_time": "2021-10-25T00:26:41.612Z"
   },
   {
    "duration": 7,
    "start_time": "2021-10-25T00:26:55.812Z"
   },
   {
    "duration": 6,
    "start_time": "2021-10-25T00:31:16.357Z"
   },
   {
    "duration": 707,
    "start_time": "2021-10-25T00:31:29.803Z"
   },
   {
    "duration": 7,
    "start_time": "2021-10-25T00:31:46.565Z"
   },
   {
    "duration": 6,
    "start_time": "2021-10-25T00:31:52.331Z"
   },
   {
    "duration": 54,
    "start_time": "2021-10-25T00:36:44.298Z"
   },
   {
    "duration": 53,
    "start_time": "2021-10-25T00:36:52.581Z"
   },
   {
    "duration": 49,
    "start_time": "2021-10-25T00:37:03.388Z"
   },
   {
    "duration": 48,
    "start_time": "2021-10-25T00:38:46.382Z"
   },
   {
    "duration": 57,
    "start_time": "2021-10-25T00:39:00.814Z"
   },
   {
    "duration": 291,
    "start_time": "2021-10-25T00:39:45.490Z"
   },
   {
    "duration": 53,
    "start_time": "2021-10-25T00:39:55.680Z"
   },
   {
    "duration": 280,
    "start_time": "2021-10-25T00:40:08.912Z"
   },
   {
    "duration": 673,
    "start_time": "2021-10-25T00:41:52.814Z"
   },
   {
    "duration": 349,
    "start_time": "2021-10-25T00:43:05.511Z"
   },
   {
    "duration": 9,
    "start_time": "2021-10-25T00:44:09.316Z"
   },
   {
    "duration": 10,
    "start_time": "2021-10-25T00:44:28.066Z"
   },
   {
    "duration": 9,
    "start_time": "2021-10-25T00:45:00.380Z"
   },
   {
    "duration": 11,
    "start_time": "2021-10-25T00:48:25.304Z"
   },
   {
    "duration": 10,
    "start_time": "2021-10-25T00:48:44.245Z"
   },
   {
    "duration": 17,
    "start_time": "2021-10-25T00:56:14.380Z"
   },
   {
    "duration": 14,
    "start_time": "2021-10-25T00:58:04.296Z"
   },
   {
    "duration": 12,
    "start_time": "2021-10-25T01:05:58.028Z"
   },
   {
    "duration": 13,
    "start_time": "2021-10-25T01:06:13.123Z"
   },
   {
    "duration": 11,
    "start_time": "2021-10-25T01:06:21.090Z"
   },
   {
    "duration": 11,
    "start_time": "2021-10-25T01:06:31.296Z"
   },
   {
    "duration": 10,
    "start_time": "2021-10-25T01:06:34.490Z"
   },
   {
    "duration": 14,
    "start_time": "2021-10-25T01:06:44.965Z"
   },
   {
    "duration": 20,
    "start_time": "2021-10-25T01:06:55.110Z"
   },
   {
    "duration": 18,
    "start_time": "2021-10-25T01:07:14.124Z"
   },
   {
    "duration": 18,
    "start_time": "2021-10-25T01:07:47.533Z"
   },
   {
    "duration": 10,
    "start_time": "2021-10-25T01:08:57.740Z"
   },
   {
    "duration": 20,
    "start_time": "2021-10-25T02:00:43.231Z"
   },
   {
    "duration": 14,
    "start_time": "2021-10-25T02:00:48.880Z"
   },
   {
    "duration": 20,
    "start_time": "2021-10-25T02:01:15.991Z"
   },
   {
    "duration": 130,
    "start_time": "2021-10-25T02:01:41.088Z"
   },
   {
    "duration": 19,
    "start_time": "2021-10-25T02:01:50.157Z"
   },
   {
    "duration": 649,
    "start_time": "2021-10-25T02:02:43.919Z"
   },
   {
    "duration": 20,
    "start_time": "2021-10-25T02:04:04.593Z"
   },
   {
    "duration": 18,
    "start_time": "2021-10-25T02:04:15.927Z"
   },
   {
    "duration": 20,
    "start_time": "2021-10-25T02:04:33.557Z"
   },
   {
    "duration": 18,
    "start_time": "2021-10-25T02:04:40.915Z"
   },
   {
    "duration": 21,
    "start_time": "2021-10-25T02:13:03.158Z"
   },
   {
    "duration": 31,
    "start_time": "2021-10-25T02:13:31.101Z"
   },
   {
    "duration": 23,
    "start_time": "2021-10-25T02:13:56.233Z"
   },
   {
    "duration": 16,
    "start_time": "2021-10-25T02:14:09.794Z"
   },
   {
    "duration": 15,
    "start_time": "2021-10-25T02:14:46.935Z"
   },
   {
    "duration": 378,
    "start_time": "2021-10-25T02:15:02.447Z"
   },
   {
    "duration": 192,
    "start_time": "2021-10-25T02:15:10.204Z"
   },
   {
    "duration": 25,
    "start_time": "2021-10-25T02:15:32.348Z"
   },
   {
    "duration": 16,
    "start_time": "2021-10-25T02:15:59.244Z"
   },
   {
    "duration": 16,
    "start_time": "2021-10-25T02:16:06.552Z"
   },
   {
    "duration": 4,
    "start_time": "2021-10-25T02:16:30.158Z"
   },
   {
    "duration": 7,
    "start_time": "2021-10-25T02:16:59.722Z"
   },
   {
    "duration": 6,
    "start_time": "2021-10-25T02:17:06.123Z"
   },
   {
    "duration": 10,
    "start_time": "2021-10-25T02:18:44.935Z"
   },
   {
    "duration": 10,
    "start_time": "2021-10-25T02:19:00.384Z"
   },
   {
    "duration": 183,
    "start_time": "2021-10-25T02:20:39.456Z"
   },
   {
    "duration": 477,
    "start_time": "2021-10-25T02:20:45.790Z"
   },
   {
    "duration": 19,
    "start_time": "2021-10-25T02:22:54.327Z"
   },
   {
    "duration": 59,
    "start_time": "2021-10-25T02:25:21.117Z"
   },
   {
    "duration": 56,
    "start_time": "2021-10-25T02:31:54.445Z"
   },
   {
    "duration": 55,
    "start_time": "2021-10-25T02:32:54.641Z"
   },
   {
    "duration": 54,
    "start_time": "2021-10-25T02:32:59.692Z"
   },
   {
    "duration": 49,
    "start_time": "2021-10-25T02:35:53.515Z"
   },
   {
    "duration": 15,
    "start_time": "2021-10-25T02:36:16.065Z"
   },
   {
    "duration": 14,
    "start_time": "2021-10-25T02:37:40.275Z"
   },
   {
    "duration": 22,
    "start_time": "2021-10-25T02:37:52.235Z"
   },
   {
    "duration": 14,
    "start_time": "2021-10-25T02:38:31.002Z"
   },
   {
    "duration": 20,
    "start_time": "2021-10-25T02:39:16.294Z"
   },
   {
    "duration": 6379,
    "start_time": "2021-10-25T02:39:28.619Z"
   },
   {
    "duration": 89,
    "start_time": "2021-10-25T02:39:42.526Z"
   },
   {
    "duration": 15,
    "start_time": "2021-10-25T02:39:44.705Z"
   },
   {
    "duration": 13,
    "start_time": "2021-10-25T02:39:56.463Z"
   },
   {
    "duration": 88,
    "start_time": "2021-10-25T02:40:09.195Z"
   },
   {
    "duration": 271,
    "start_time": "2021-10-25T02:40:14.793Z"
   },
   {
    "duration": 35,
    "start_time": "2021-10-25T02:40:26.959Z"
   },
   {
    "duration": 608,
    "start_time": "2021-10-25T02:40:50.676Z"
   },
   {
    "duration": 22,
    "start_time": "2021-10-25T02:40:51.286Z"
   },
   {
    "duration": 34,
    "start_time": "2021-10-25T02:40:51.310Z"
   },
   {
    "duration": 34,
    "start_time": "2021-10-25T02:40:55.607Z"
   },
   {
    "duration": 55,
    "start_time": "2021-10-25T02:44:48.530Z"
   },
   {
    "duration": 450,
    "start_time": "2021-10-25T02:45:01.478Z"
   },
   {
    "duration": 51,
    "start_time": "2021-10-25T02:45:08.779Z"
   },
   {
    "duration": 3960,
    "start_time": "2021-10-25T02:45:34.614Z"
   },
   {
    "duration": 331,
    "start_time": "2021-10-25T02:45:45.154Z"
   },
   {
    "duration": 320,
    "start_time": "2021-10-25T02:46:14.813Z"
   },
   {
    "duration": 93,
    "start_time": "2021-10-25T02:46:37.614Z"
   },
   {
    "duration": 309,
    "start_time": "2021-10-25T02:46:48.037Z"
   },
   {
    "duration": 93,
    "start_time": "2021-10-25T02:46:54.733Z"
   },
   {
    "duration": 42,
    "start_time": "2021-10-25T02:47:04.407Z"
   },
   {
    "duration": 97,
    "start_time": "2021-10-25T02:47:38.355Z"
   },
   {
    "duration": 42,
    "start_time": "2021-10-25T02:47:41.285Z"
   },
   {
    "duration": 42,
    "start_time": "2021-10-25T02:47:46.936Z"
   },
   {
    "duration": 80,
    "start_time": "2021-10-25T02:48:01.239Z"
   },
   {
    "duration": 3,
    "start_time": "2021-10-25T02:49:54.682Z"
   },
   {
    "duration": 664,
    "start_time": "2021-10-25T02:50:13.616Z"
   },
   {
    "duration": 22,
    "start_time": "2021-10-25T02:50:14.282Z"
   },
   {
    "duration": 39,
    "start_time": "2021-10-25T02:50:14.307Z"
   },
   {
    "duration": 33,
    "start_time": "2021-10-25T02:50:20.525Z"
   },
   {
    "duration": 13,
    "start_time": "2021-10-25T02:56:06.200Z"
   },
   {
    "duration": 7,
    "start_time": "2021-10-25T02:57:02.960Z"
   },
   {
    "duration": 6,
    "start_time": "2021-10-25T02:57:29.388Z"
   },
   {
    "duration": 99,
    "start_time": "2021-10-25T02:59:04.953Z"
   },
   {
    "duration": 5,
    "start_time": "2021-10-25T02:59:21.791Z"
   },
   {
    "duration": 5,
    "start_time": "2021-10-25T03:00:07.747Z"
   },
   {
    "duration": 5,
    "start_time": "2021-10-25T03:00:12.545Z"
   },
   {
    "duration": 491,
    "start_time": "2021-10-25T03:00:22.995Z"
   },
   {
    "duration": 5,
    "start_time": "2021-10-25T03:00:33.998Z"
   },
   {
    "duration": 5,
    "start_time": "2021-10-25T03:00:41.455Z"
   },
   {
    "duration": 260,
    "start_time": "2021-10-25T03:01:17.419Z"
   },
   {
    "duration": 10,
    "start_time": "2021-10-25T03:01:29.333Z"
   },
   {
    "duration": 6267,
    "start_time": "2021-10-25T03:03:30.456Z"
   },
   {
    "duration": 6403,
    "start_time": "2021-10-25T03:03:40.256Z"
   },
   {
    "duration": 86,
    "start_time": "2021-10-25T03:03:59.549Z"
   },
   {
    "duration": 7239,
    "start_time": "2021-10-25T03:04:08.249Z"
   },
   {
    "duration": 1234,
    "start_time": "2021-10-25T03:04:29.412Z"
   },
   {
    "duration": 1166,
    "start_time": "2021-10-25T03:05:09.903Z"
   },
   {
    "duration": 12,
    "start_time": "2021-10-25T03:05:20.347Z"
   },
   {
    "duration": 604,
    "start_time": "2021-10-25T03:05:29.285Z"
   },
   {
    "duration": 19,
    "start_time": "2021-10-25T03:05:29.891Z"
   },
   {
    "duration": 24,
    "start_time": "2021-10-25T03:05:29.912Z"
   },
   {
    "duration": 37,
    "start_time": "2021-10-25T03:05:29.938Z"
   },
   {
    "duration": 9,
    "start_time": "2021-10-25T03:05:35.226Z"
   },
   {
    "duration": 15,
    "start_time": "2021-10-25T03:05:50.482Z"
   },
   {
    "duration": 15,
    "start_time": "2021-10-25T03:06:26.936Z"
   },
   {
    "duration": 15,
    "start_time": "2021-10-25T03:06:30.372Z"
   },
   {
    "duration": 10,
    "start_time": "2021-10-25T03:06:36.445Z"
   },
   {
    "duration": 11,
    "start_time": "2021-10-25T03:06:57.305Z"
   },
   {
    "duration": 16,
    "start_time": "2021-10-25T03:10:47.942Z"
   },
   {
    "duration": 18,
    "start_time": "2021-10-25T03:11:06.607Z"
   },
   {
    "duration": 19,
    "start_time": "2021-10-25T03:11:12.635Z"
   },
   {
    "duration": 18,
    "start_time": "2021-10-25T03:11:58.044Z"
   },
   {
    "duration": 18,
    "start_time": "2021-10-25T03:12:04.510Z"
   },
   {
    "duration": 18,
    "start_time": "2021-10-25T03:12:10.266Z"
   },
   {
    "duration": 395,
    "start_time": "2021-10-25T03:15:17.913Z"
   },
   {
    "duration": 21,
    "start_time": "2021-10-25T03:16:30.962Z"
   },
   {
    "duration": 17,
    "start_time": "2021-10-25T03:16:36.544Z"
   },
   {
    "duration": 23,
    "start_time": "2021-10-25T03:16:47.845Z"
   },
   {
    "duration": 99,
    "start_time": "2021-10-25T03:17:08.498Z"
   },
   {
    "duration": 287,
    "start_time": "2021-10-25T03:17:22.186Z"
   },
   {
    "duration": 21,
    "start_time": "2021-10-25T03:18:38.695Z"
   },
   {
    "duration": 21,
    "start_time": "2021-10-25T03:19:24.669Z"
   },
   {
    "duration": 21,
    "start_time": "2021-10-25T03:19:33.639Z"
   },
   {
    "duration": 93,
    "start_time": "2021-10-25T03:33:27.887Z"
   },
   {
    "duration": 56,
    "start_time": "2021-10-25T03:33:34.102Z"
   },
   {
    "duration": 60,
    "start_time": "2021-10-25T03:33:45.229Z"
   },
   {
    "duration": 51,
    "start_time": "2021-10-25T03:33:56.654Z"
   },
   {
    "duration": 51,
    "start_time": "2021-10-25T03:34:14.239Z"
   },
   {
    "duration": 51,
    "start_time": "2021-10-25T03:35:18.886Z"
   },
   {
    "duration": 53,
    "start_time": "2021-10-25T03:35:35.003Z"
   },
   {
    "duration": 52,
    "start_time": "2021-10-25T03:38:55.750Z"
   },
   {
    "duration": 306,
    "start_time": "2021-10-25T03:39:12.416Z"
   },
   {
    "duration": 52,
    "start_time": "2021-10-25T03:39:17.738Z"
   },
   {
    "duration": 54,
    "start_time": "2021-10-25T03:39:25.541Z"
   },
   {
    "duration": 52,
    "start_time": "2021-10-25T03:39:31.870Z"
   },
   {
    "duration": 50,
    "start_time": "2021-10-25T03:39:58.986Z"
   },
   {
    "duration": 46,
    "start_time": "2021-10-25T03:40:17.646Z"
   },
   {
    "duration": 44,
    "start_time": "2021-10-25T03:40:39.596Z"
   },
   {
    "duration": 46,
    "start_time": "2021-10-25T03:40:45.904Z"
   },
   {
    "duration": 44,
    "start_time": "2021-10-25T03:41:06.189Z"
   },
   {
    "duration": 46,
    "start_time": "2021-10-25T03:41:15.709Z"
   },
   {
    "duration": 44,
    "start_time": "2021-10-25T03:41:22.656Z"
   },
   {
    "duration": 45,
    "start_time": "2021-10-25T03:41:28.086Z"
   },
   {
    "duration": 46,
    "start_time": "2021-10-25T03:41:37.896Z"
   },
   {
    "duration": 53,
    "start_time": "2021-10-25T03:41:47.181Z"
   },
   {
    "duration": 47,
    "start_time": "2021-10-25T03:41:53.043Z"
   },
   {
    "duration": 45,
    "start_time": "2021-10-25T03:42:56.939Z"
   },
   {
    "duration": 44,
    "start_time": "2021-10-25T03:42:59.886Z"
   },
   {
    "duration": 44,
    "start_time": "2021-10-25T03:43:02.952Z"
   },
   {
    "duration": 48,
    "start_time": "2021-10-25T03:43:24.271Z"
   },
   {
    "duration": 661,
    "start_time": "2021-10-25T03:45:01.120Z"
   },
   {
    "duration": 44,
    "start_time": "2021-10-25T03:45:07.320Z"
   },
   {
    "duration": 46,
    "start_time": "2021-10-25T03:45:31.064Z"
   },
   {
    "duration": 52,
    "start_time": "2021-10-25T03:45:59.333Z"
   },
   {
    "duration": 48,
    "start_time": "2021-10-25T03:47:16.482Z"
   },
   {
    "duration": 658,
    "start_time": "2021-10-25T03:52:48.209Z"
   },
   {
    "duration": 19,
    "start_time": "2021-10-25T03:52:48.868Z"
   },
   {
    "duration": 21,
    "start_time": "2021-10-25T03:52:48.889Z"
   },
   {
    "duration": 58,
    "start_time": "2021-10-25T03:52:48.911Z"
   },
   {
    "duration": 344,
    "start_time": "2021-10-25T03:54:22.020Z"
   },
   {
    "duration": 20,
    "start_time": "2021-10-25T03:54:33.073Z"
   },
   {
    "duration": 21,
    "start_time": "2021-10-25T03:58:36.729Z"
   },
   {
    "duration": 20,
    "start_time": "2021-10-25T03:59:18.900Z"
   },
   {
    "duration": 22,
    "start_time": "2021-10-25T03:59:28.787Z"
   },
   {
    "duration": 27,
    "start_time": "2021-10-25T03:59:55.065Z"
   },
   {
    "duration": 23,
    "start_time": "2021-10-25T04:00:14.832Z"
   },
   {
    "duration": 23,
    "start_time": "2021-10-25T04:00:48.630Z"
   },
   {
    "duration": 25,
    "start_time": "2021-10-25T04:00:55.175Z"
   },
   {
    "duration": 21,
    "start_time": "2021-10-25T04:01:01.732Z"
   },
   {
    "duration": 50,
    "start_time": "2021-10-25T04:02:16.160Z"
   },
   {
    "duration": 25,
    "start_time": "2021-10-25T04:02:26.556Z"
   },
   {
    "duration": 26,
    "start_time": "2021-10-25T04:02:37.460Z"
   },
   {
    "duration": 24,
    "start_time": "2021-10-25T04:02:47.368Z"
   },
   {
    "duration": 23,
    "start_time": "2021-10-25T04:03:17.876Z"
   },
   {
    "duration": 19,
    "start_time": "2021-10-25T04:03:39.624Z"
   },
   {
    "duration": 22,
    "start_time": "2021-10-25T04:03:50.486Z"
   },
   {
    "duration": 24,
    "start_time": "2021-10-25T04:04:29.728Z"
   },
   {
    "duration": 24,
    "start_time": "2021-10-25T04:04:37.643Z"
   },
   {
    "duration": 27,
    "start_time": "2021-10-25T04:07:53.273Z"
   },
   {
    "duration": 23,
    "start_time": "2021-10-25T04:08:02.623Z"
   },
   {
    "duration": 301,
    "start_time": "2021-10-25T04:08:50.041Z"
   },
   {
    "duration": 295,
    "start_time": "2021-10-25T04:09:50.548Z"
   },
   {
    "duration": 134,
    "start_time": "2021-10-25T04:11:02.806Z"
   },
   {
    "duration": 291,
    "start_time": "2021-10-25T04:11:09.265Z"
   },
   {
    "duration": 293,
    "start_time": "2021-10-25T04:11:35.653Z"
   },
   {
    "duration": 27,
    "start_time": "2021-10-25T04:12:49.283Z"
   },
   {
    "duration": 300,
    "start_time": "2021-10-25T04:13:38.149Z"
   },
   {
    "duration": 26,
    "start_time": "2021-10-25T04:13:58.710Z"
   },
   {
    "duration": 339,
    "start_time": "2021-10-25T04:14:36.021Z"
   },
   {
    "duration": 301,
    "start_time": "2021-10-25T04:19:22.968Z"
   },
   {
    "duration": 280,
    "start_time": "2021-10-25T04:19:26.346Z"
   },
   {
    "duration": 303,
    "start_time": "2021-10-25T04:20:34.388Z"
   },
   {
    "duration": 26,
    "start_time": "2021-10-25T04:21:26.020Z"
   },
   {
    "duration": 291,
    "start_time": "2021-10-25T04:21:49.647Z"
   },
   {
    "duration": 28,
    "start_time": "2021-10-25T04:21:58.887Z"
   },
   {
    "duration": 25,
    "start_time": "2021-10-25T04:22:04.622Z"
   },
   {
    "duration": 33,
    "start_time": "2021-10-25T04:22:14.008Z"
   },
   {
    "duration": 25,
    "start_time": "2021-10-25T04:22:29.604Z"
   },
   {
    "duration": 1438,
    "start_time": "2021-10-25T04:22:56.604Z"
   },
   {
    "duration": 99,
    "start_time": "2021-10-25T04:23:03.242Z"
   },
   {
    "duration": 24,
    "start_time": "2021-10-25T04:23:51.028Z"
   },
   {
    "duration": 27,
    "start_time": "2021-10-25T04:24:05.262Z"
   },
   {
    "duration": 27,
    "start_time": "2021-10-25T04:26:21.579Z"
   },
   {
    "duration": 25,
    "start_time": "2021-10-25T04:26:41.174Z"
   },
   {
    "duration": 27,
    "start_time": "2021-10-25T04:26:58.428Z"
   },
   {
    "duration": 23,
    "start_time": "2021-10-25T04:27:10.071Z"
   },
   {
    "duration": 24,
    "start_time": "2021-10-25T04:27:20.409Z"
   },
   {
    "duration": 24,
    "start_time": "2021-10-25T04:27:25.891Z"
   },
   {
    "duration": 23,
    "start_time": "2021-10-25T04:31:11.810Z"
   },
   {
    "duration": 26,
    "start_time": "2021-10-25T04:31:36.282Z"
   },
   {
    "duration": 28,
    "start_time": "2021-10-25T04:31:48.323Z"
   },
   {
    "duration": 27,
    "start_time": "2021-10-25T04:32:39.228Z"
   },
   {
    "duration": 29,
    "start_time": "2021-10-25T04:32:52.948Z"
   },
   {
    "duration": 34,
    "start_time": "2021-10-25T04:33:24.792Z"
   },
   {
    "duration": 30,
    "start_time": "2021-10-25T04:33:34.905Z"
   },
   {
    "duration": 33,
    "start_time": "2021-10-25T04:33:59.835Z"
   },
   {
    "duration": 29,
    "start_time": "2021-10-25T04:34:12.863Z"
   },
   {
    "duration": 286,
    "start_time": "2021-10-25T04:35:20.029Z"
   },
   {
    "duration": 27,
    "start_time": "2021-10-25T04:35:44.890Z"
   },
   {
    "duration": 28,
    "start_time": "2021-10-25T04:35:57.229Z"
   },
   {
    "duration": 28,
    "start_time": "2021-10-25T04:46:47.610Z"
   },
   {
    "duration": 30,
    "start_time": "2021-10-25T04:46:57.213Z"
   },
   {
    "duration": 30,
    "start_time": "2021-10-25T04:48:25.554Z"
   },
   {
    "duration": 27,
    "start_time": "2021-10-25T04:48:37.835Z"
   },
   {
    "duration": 28,
    "start_time": "2021-10-25T04:48:48.712Z"
   },
   {
    "duration": 114,
    "start_time": "2021-10-25T04:54:27.351Z"
   },
   {
    "duration": 29,
    "start_time": "2021-10-25T04:56:49.664Z"
   },
   {
    "duration": 27,
    "start_time": "2021-10-25T04:57:01.265Z"
   },
   {
    "duration": 26,
    "start_time": "2021-10-25T04:57:34.548Z"
   },
   {
    "duration": 29,
    "start_time": "2021-10-25T04:58:11.014Z"
   },
   {
    "duration": 29,
    "start_time": "2021-10-25T04:58:18.626Z"
   },
   {
    "duration": 27,
    "start_time": "2021-10-25T04:59:08.173Z"
   },
   {
    "duration": 30,
    "start_time": "2021-10-25T04:59:29.172Z"
   },
   {
    "duration": 26,
    "start_time": "2021-10-25T04:59:31.897Z"
   },
   {
    "duration": 28,
    "start_time": "2021-10-25T05:00:13.297Z"
   },
   {
    "duration": 30,
    "start_time": "2021-10-25T05:02:00.148Z"
   },
   {
    "duration": 35,
    "start_time": "2021-10-25T05:10:39.335Z"
   },
   {
    "duration": 90,
    "start_time": "2021-10-25T05:13:17.781Z"
   },
   {
    "duration": 107,
    "start_time": "2021-10-25T05:14:16.538Z"
   },
   {
    "duration": 89,
    "start_time": "2021-10-25T05:14:24.798Z"
   },
   {
    "duration": 93,
    "start_time": "2021-10-25T05:14:38.534Z"
   },
   {
    "duration": 96,
    "start_time": "2021-10-25T05:14:46.115Z"
   },
   {
    "duration": 85,
    "start_time": "2021-10-25T05:14:54.918Z"
   },
   {
    "duration": 97,
    "start_time": "2021-10-25T05:15:05.395Z"
   },
   {
    "duration": 109,
    "start_time": "2021-10-25T05:16:16.776Z"
   },
   {
    "duration": 91,
    "start_time": "2021-10-25T05:16:24.188Z"
   },
   {
    "duration": 251,
    "start_time": "2021-10-25T05:17:45.330Z"
   },
   {
    "duration": 93,
    "start_time": "2021-10-25T05:18:05.162Z"
   },
   {
    "duration": 96,
    "start_time": "2021-10-25T05:18:14.817Z"
   },
   {
    "duration": 95,
    "start_time": "2021-10-25T05:18:30.605Z"
   },
   {
    "duration": 36,
    "start_time": "2021-10-25T05:19:04.713Z"
   },
   {
    "duration": 41,
    "start_time": "2021-10-25T05:19:27.554Z"
   },
   {
    "duration": 103,
    "start_time": "2021-10-25T05:19:54.145Z"
   },
   {
    "duration": 34,
    "start_time": "2021-10-25T05:20:08.774Z"
   },
   {
    "duration": 37,
    "start_time": "2021-10-25T05:20:15.486Z"
   },
   {
    "duration": 36,
    "start_time": "2021-10-25T05:20:33.458Z"
   },
   {
    "duration": 36,
    "start_time": "2021-10-25T05:20:50.756Z"
   },
   {
    "duration": 35,
    "start_time": "2021-10-25T05:20:54.099Z"
   },
   {
    "duration": 34,
    "start_time": "2021-10-25T05:20:58.872Z"
   },
   {
    "duration": 675,
    "start_time": "2021-11-02T00:12:00.094Z"
   },
   {
    "duration": 19,
    "start_time": "2021-11-02T00:12:00.772Z"
   },
   {
    "duration": 21,
    "start_time": "2021-11-02T00:12:05.563Z"
   },
   {
    "duration": 19,
    "start_time": "2021-11-02T00:12:30.169Z"
   },
   {
    "duration": 19,
    "start_time": "2021-11-02T00:12:46.291Z"
   },
   {
    "duration": 20,
    "start_time": "2021-11-02T00:13:28.842Z"
   },
   {
    "duration": 22,
    "start_time": "2021-11-02T00:13:46.136Z"
   },
   {
    "duration": 21,
    "start_time": "2021-11-02T19:02:43.681Z"
   },
   {
    "duration": 15,
    "start_time": "2021-11-02T19:33:49.935Z"
   },
   {
    "duration": 16,
    "start_time": "2021-11-02T19:34:07.456Z"
   },
   {
    "duration": 16,
    "start_time": "2021-11-02T19:34:37.156Z"
   },
   {
    "duration": 683,
    "start_time": "2021-11-05T01:58:09.445Z"
   },
   {
    "duration": 19,
    "start_time": "2021-11-05T01:58:10.130Z"
   },
   {
    "duration": 30,
    "start_time": "2021-11-05T01:58:10.151Z"
   },
   {
    "duration": 33,
    "start_time": "2021-11-05T01:58:10.183Z"
   },
   {
    "duration": 10,
    "start_time": "2021-11-05T01:58:13.700Z"
   },
   {
    "duration": 7,
    "start_time": "2021-11-05T01:58:20.631Z"
   },
   {
    "duration": 8,
    "start_time": "2021-11-05T02:00:45.965Z"
   },
   {
    "duration": 98,
    "start_time": "2021-11-05T02:00:56.934Z"
   },
   {
    "duration": 9,
    "start_time": "2021-11-05T02:00:59.884Z"
   },
   {
    "duration": 8,
    "start_time": "2021-11-05T18:53:29.930Z"
   },
   {
    "duration": 17,
    "start_time": "2021-11-05T18:54:17.711Z"
   },
   {
    "duration": 15,
    "start_time": "2021-11-05T21:39:04.045Z"
   },
   {
    "duration": 8,
    "start_time": "2021-11-05T21:39:24.846Z"
   },
   {
    "duration": 18,
    "start_time": "2021-11-05T21:39:54.263Z"
   },
   {
    "duration": -429,
    "start_time": "2021-11-05T21:40:08.724Z"
   },
   {
    "duration": 6093,
    "start_time": "2021-11-05T21:40:23.317Z"
   },
   {
    "duration": 6032,
    "start_time": "2021-11-05T21:40:30.444Z"
   },
   {
    "duration": 14,
    "start_time": "2021-11-05T21:40:49.653Z"
   },
   {
    "duration": 13,
    "start_time": "2021-11-05T21:40:57.700Z"
   },
   {
    "duration": 14,
    "start_time": "2021-11-05T21:41:18.108Z"
   },
   {
    "duration": 22,
    "start_time": "2021-11-05T21:41:33.387Z"
   },
   {
    "duration": 51,
    "start_time": "2021-11-05T21:52:42.148Z"
   },
   {
    "duration": 55,
    "start_time": "2021-11-05T21:54:01.257Z"
   },
   {
    "duration": 50,
    "start_time": "2021-11-05T21:54:19.902Z"
   },
   {
    "duration": 54,
    "start_time": "2021-11-05T21:54:25.755Z"
   },
   {
    "duration": 53,
    "start_time": "2021-11-05T21:54:39.033Z"
   },
   {
    "duration": 320,
    "start_time": "2021-11-05T22:01:25.207Z"
   },
   {
    "duration": 269,
    "start_time": "2021-11-05T22:01:50.992Z"
   },
   {
    "duration": 281,
    "start_time": "2021-11-05T22:04:35.676Z"
   },
   {
    "duration": 260,
    "start_time": "2021-11-05T22:04:45.600Z"
   },
   {
    "duration": 289,
    "start_time": "2021-11-05T22:05:51.199Z"
   },
   {
    "duration": 268,
    "start_time": "2021-11-05T22:06:28.370Z"
   },
   {
    "duration": 70,
    "start_time": "2021-11-05T22:06:34.706Z"
   },
   {
    "duration": 66,
    "start_time": "2021-11-05T22:06:54.698Z"
   },
   {
    "duration": 620,
    "start_time": "2021-11-05T22:07:24.112Z"
   },
   {
    "duration": 38,
    "start_time": "2021-11-05T22:07:47.214Z"
   },
   {
    "duration": 35,
    "start_time": "2021-11-05T22:07:51.099Z"
   },
   {
    "duration": 42,
    "start_time": "2021-11-05T22:08:14.015Z"
   },
   {
    "duration": 31,
    "start_time": "2021-11-05T22:08:52.932Z"
   },
   {
    "duration": 36,
    "start_time": "2021-11-05T22:09:10.647Z"
   },
   {
    "duration": 34,
    "start_time": "2021-11-05T22:09:18.098Z"
   },
   {
    "duration": 34,
    "start_time": "2021-11-05T22:09:43.058Z"
   },
   {
    "duration": 34,
    "start_time": "2021-11-05T23:08:16.167Z"
   },
   {
    "duration": 24,
    "start_time": "2021-11-05T23:08:24.990Z"
   },
   {
    "duration": 23,
    "start_time": "2021-11-05T23:08:55.520Z"
   },
   {
    "duration": 22,
    "start_time": "2021-11-05T23:09:24.765Z"
   },
   {
    "duration": 23,
    "start_time": "2021-11-05T23:09:31.268Z"
   },
   {
    "duration": 23,
    "start_time": "2021-11-06T03:49:48.100Z"
   },
   {
    "duration": 22,
    "start_time": "2021-11-06T03:50:26.197Z"
   },
   {
    "duration": 29,
    "start_time": "2021-11-06T03:51:27.649Z"
   },
   {
    "duration": 427,
    "start_time": "2021-11-06T18:48:19.144Z"
   },
   {
    "duration": 299,
    "start_time": "2021-11-06T18:48:24.875Z"
   },
   {
    "duration": 328,
    "start_time": "2021-11-06T18:48:31.659Z"
   },
   {
    "duration": 22,
    "start_time": "2021-11-06T18:48:52.406Z"
   },
   {
    "duration": 22,
    "start_time": "2021-11-06T18:48:58.459Z"
   },
   {
    "duration": 25,
    "start_time": "2021-11-06T18:49:10.118Z"
   },
   {
    "duration": 22,
    "start_time": "2021-11-06T18:49:14.419Z"
   },
   {
    "duration": 20,
    "start_time": "2021-11-06T18:49:28.516Z"
   },
   {
    "duration": 16,
    "start_time": "2021-11-06T19:07:32.722Z"
   },
   {
    "duration": 22,
    "start_time": "2021-11-06T20:40:20.234Z"
   },
   {
    "duration": 15,
    "start_time": "2021-11-06T20:53:11.507Z"
   },
   {
    "duration": 15,
    "start_time": "2021-11-06T20:53:30.822Z"
   },
   {
    "duration": 13,
    "start_time": "2021-11-06T20:53:54.965Z"
   },
   {
    "duration": 11,
    "start_time": "2021-11-06T20:54:11.812Z"
   },
   {
    "duration": 12,
    "start_time": "2021-11-06T20:54:21.256Z"
   },
   {
    "duration": 13,
    "start_time": "2021-11-06T20:54:33.897Z"
   },
   {
    "duration": 13,
    "start_time": "2021-11-06T20:54:38.367Z"
   },
   {
    "duration": 13,
    "start_time": "2021-11-06T20:54:56.978Z"
   },
   {
    "duration": 18,
    "start_time": "2021-11-06T20:56:13.373Z"
   },
   {
    "duration": 21,
    "start_time": "2021-11-06T20:56:36.753Z"
   },
   {
    "duration": 15,
    "start_time": "2021-11-06T20:57:00.551Z"
   },
   {
    "duration": 14,
    "start_time": "2021-11-06T20:59:55.183Z"
   },
   {
    "duration": 14,
    "start_time": "2021-11-06T21:00:02.116Z"
   },
   {
    "duration": 15,
    "start_time": "2021-11-06T21:00:35.497Z"
   },
   {
    "duration": 13,
    "start_time": "2021-11-06T21:00:43.717Z"
   },
   {
    "duration": 21,
    "start_time": "2021-11-06T21:27:53.424Z"
   },
   {
    "duration": 22,
    "start_time": "2021-11-06T21:42:49.407Z"
   },
   {
    "duration": 21,
    "start_time": "2021-11-06T22:32:33.489Z"
   },
   {
    "duration": 20,
    "start_time": "2021-11-06T22:32:48.255Z"
   },
   {
    "duration": 5953,
    "start_time": "2021-11-06T22:33:22.536Z"
   },
   {
    "duration": 21,
    "start_time": "2021-11-06T22:34:24.220Z"
   },
   {
    "duration": 17,
    "start_time": "2021-11-06T22:34:40.580Z"
   },
   {
    "duration": 16,
    "start_time": "2021-11-06T22:34:50.090Z"
   },
   {
    "duration": 24,
    "start_time": "2021-11-07T16:27:48.831Z"
   },
   {
    "duration": 19,
    "start_time": "2021-11-07T16:27:53.340Z"
   },
   {
    "duration": 15,
    "start_time": "2021-11-07T16:34:43.400Z"
   },
   {
    "duration": 19,
    "start_time": "2021-11-07T16:34:47.961Z"
   },
   {
    "duration": 257,
    "start_time": "2021-11-07T16:34:53.570Z"
   },
   {
    "duration": 60,
    "start_time": "2021-11-07T16:35:07.416Z"
   },
   {
    "duration": 373,
    "start_time": "2021-11-07T16:35:15.474Z"
   },
   {
    "duration": 17,
    "start_time": "2021-11-07T16:35:24.143Z"
   },
   {
    "duration": 14,
    "start_time": "2021-11-07T16:36:34.062Z"
   },
   {
    "duration": 75,
    "start_time": "2021-11-07T16:38:15.201Z"
   },
   {
    "duration": 19,
    "start_time": "2021-11-07T16:39:02.486Z"
   },
   {
    "duration": 32,
    "start_time": "2021-11-07T16:39:07.550Z"
   },
   {
    "duration": 6788,
    "start_time": "2021-11-07T16:39:44.602Z"
   },
   {
    "duration": 8,
    "start_time": "2021-11-07T16:40:00.375Z"
   },
   {
    "duration": 8,
    "start_time": "2021-11-07T16:40:40.215Z"
   },
   {
    "duration": 14,
    "start_time": "2021-11-07T16:43:33.879Z"
   },
   {
    "duration": 20,
    "start_time": "2021-11-07T16:45:45.743Z"
   },
   {
    "duration": 19,
    "start_time": "2021-11-07T16:46:44.486Z"
   },
   {
    "duration": 2994,
    "start_time": "2021-11-07T16:47:31.493Z"
   },
   {
    "duration": 3096,
    "start_time": "2021-11-07T16:47:39.881Z"
   },
   {
    "duration": 24,
    "start_time": "2021-11-07T16:48:01.525Z"
   },
   {
    "duration": 18,
    "start_time": "2021-11-07T16:48:27.773Z"
   },
   {
    "duration": 267,
    "start_time": "2021-11-07T16:48:43.911Z"
   },
   {
    "duration": 19,
    "start_time": "2021-11-07T16:48:55.541Z"
   },
   {
    "duration": 21,
    "start_time": "2021-11-07T16:49:00.381Z"
   },
   {
    "duration": 19,
    "start_time": "2021-11-07T16:49:14.213Z"
   },
   {
    "duration": 20,
    "start_time": "2021-11-07T16:49:22.384Z"
   },
   {
    "duration": 21,
    "start_time": "2021-11-07T16:49:32.922Z"
   },
   {
    "duration": 24,
    "start_time": "2021-11-07T16:49:57.377Z"
   },
   {
    "duration": 23,
    "start_time": "2021-11-07T16:50:00.247Z"
   },
   {
    "duration": 19,
    "start_time": "2021-11-07T16:50:16.898Z"
   },
   {
    "duration": 22,
    "start_time": "2021-11-07T16:50:21.766Z"
   },
   {
    "duration": 24,
    "start_time": "2021-11-07T16:52:26.213Z"
   },
   {
    "duration": 23,
    "start_time": "2021-11-07T16:52:45.713Z"
   },
   {
    "duration": 788,
    "start_time": "2021-11-07T16:52:57.654Z"
   },
   {
    "duration": 23,
    "start_time": "2021-11-07T16:52:58.444Z"
   },
   {
    "duration": 23,
    "start_time": "2021-11-07T16:53:07.828Z"
   },
   {
    "duration": 35,
    "start_time": "2021-11-07T16:53:42.099Z"
   },
   {
    "duration": 20,
    "start_time": "2021-11-07T16:53:46.408Z"
   },
   {
    "duration": 18,
    "start_time": "2021-11-07T16:53:55.208Z"
   },
   {
    "duration": 18,
    "start_time": "2021-11-07T16:54:11.017Z"
   },
   {
    "duration": 19,
    "start_time": "2021-11-07T16:54:21.413Z"
   },
   {
    "duration": 20,
    "start_time": "2021-11-07T16:54:31.432Z"
   },
   {
    "duration": 17,
    "start_time": "2021-11-07T16:54:36.219Z"
   },
   {
    "duration": 20,
    "start_time": "2021-11-07T16:55:01.184Z"
   },
   {
    "duration": 16,
    "start_time": "2021-11-07T16:55:22.001Z"
   },
   {
    "duration": 17,
    "start_time": "2021-11-07T16:55:26.144Z"
   },
   {
    "duration": 22,
    "start_time": "2021-11-07T16:55:32.425Z"
   },
   {
    "duration": 17,
    "start_time": "2021-11-07T18:24:03.689Z"
   },
   {
    "duration": 15,
    "start_time": "2021-11-07T18:24:11.712Z"
   },
   {
    "duration": 23,
    "start_time": "2021-11-07T18:25:34.092Z"
   },
   {
    "duration": 17,
    "start_time": "2021-11-07T18:26:26.954Z"
   },
   {
    "duration": 16,
    "start_time": "2021-11-07T18:31:25.768Z"
   },
   {
    "duration": 18,
    "start_time": "2021-11-07T18:31:52.678Z"
   },
   {
    "duration": 16,
    "start_time": "2021-11-07T18:58:15.947Z"
   },
   {
    "duration": 15,
    "start_time": "2021-11-07T18:58:33.210Z"
   },
   {
    "duration": 78,
    "start_time": "2021-11-07T19:02:11.158Z"
   },
   {
    "duration": 21,
    "start_time": "2021-11-07T19:02:15.671Z"
   },
   {
    "duration": 15,
    "start_time": "2021-11-07T19:02:20.311Z"
   },
   {
    "duration": 20,
    "start_time": "2021-11-07T19:03:42.811Z"
   },
   {
    "duration": 14,
    "start_time": "2021-11-07T19:04:12.462Z"
   },
   {
    "duration": 12,
    "start_time": "2021-11-07T19:04:35.530Z"
   },
   {
    "duration": 14,
    "start_time": "2021-11-07T19:04:39.621Z"
   },
   {
    "duration": 20,
    "start_time": "2021-11-07T20:39:25.755Z"
   },
   {
    "duration": 15,
    "start_time": "2021-11-07T20:39:38.211Z"
   },
   {
    "duration": 14,
    "start_time": "2021-11-07T20:47:37.971Z"
   },
   {
    "duration": 9,
    "start_time": "2021-11-09T01:12:30.163Z"
   },
   {
    "duration": 8,
    "start_time": "2021-11-09T01:12:42.328Z"
   },
   {
    "duration": 8,
    "start_time": "2021-11-09T01:13:53.560Z"
   },
   {
    "duration": 23,
    "start_time": "2021-11-09T01:14:32.442Z"
   },
   {
    "duration": 22,
    "start_time": "2021-11-09T01:14:49.028Z"
   },
   {
    "duration": 8,
    "start_time": "2021-11-09T01:15:58.532Z"
   },
   {
    "duration": 9,
    "start_time": "2021-11-09T01:16:18.369Z"
   },
   {
    "duration": 52,
    "start_time": "2021-11-09T01:19:07.568Z"
   },
   {
    "duration": 659,
    "start_time": "2021-11-09T01:44:24.433Z"
   },
   {
    "duration": 20,
    "start_time": "2021-11-09T01:44:25.094Z"
   },
   {
    "duration": 21,
    "start_time": "2021-11-09T01:44:25.117Z"
   },
   {
    "duration": 35,
    "start_time": "2021-11-09T01:44:25.162Z"
   },
   {
    "duration": 15,
    "start_time": "2021-11-09T01:44:25.199Z"
   },
   {
    "duration": 24,
    "start_time": "2021-11-09T01:44:25.216Z"
   },
   {
    "duration": 16,
    "start_time": "2021-11-09T01:44:25.264Z"
   },
   {
    "duration": 296,
    "start_time": "2021-11-09T01:44:29.990Z"
   },
   {
    "duration": 13,
    "start_time": "2021-11-09T01:44:34.098Z"
   },
   {
    "duration": 13,
    "start_time": "2021-11-09T01:44:40.958Z"
   },
   {
    "duration": 9,
    "start_time": "2021-11-09T01:45:43.992Z"
   },
   {
    "duration": 9,
    "start_time": "2021-11-09T01:45:51.568Z"
   },
   {
    "duration": 62,
    "start_time": "2021-11-09T02:35:17.235Z"
   },
   {
    "duration": 50,
    "start_time": "2021-11-09T02:36:52.443Z"
   },
   {
    "duration": 9,
    "start_time": "2021-11-09T02:50:34.247Z"
   },
   {
    "duration": 8,
    "start_time": "2021-11-09T02:50:56.308Z"
   },
   {
    "duration": 83,
    "start_time": "2021-11-09T18:32:42.897Z"
   },
   {
    "duration": 83,
    "start_time": "2021-11-09T18:32:51.126Z"
   },
   {
    "duration": 478,
    "start_time": "2021-11-09T18:32:54.454Z"
   },
   {
    "duration": 657,
    "start_time": "2021-11-09T18:33:14.523Z"
   },
   {
    "duration": 28,
    "start_time": "2021-11-09T18:33:15.183Z"
   },
   {
    "duration": 24,
    "start_time": "2021-11-09T18:33:20.865Z"
   },
   {
    "duration": 20,
    "start_time": "2021-11-09T18:34:19.269Z"
   },
   {
    "duration": 34,
    "start_time": "2021-11-09T18:34:29.716Z"
   },
   {
    "duration": 14,
    "start_time": "2021-11-09T18:38:06.687Z"
   },
   {
    "duration": 18,
    "start_time": "2021-11-09T18:38:09.415Z"
   },
   {
    "duration": 13,
    "start_time": "2021-11-09T18:55:32.111Z"
   },
   {
    "duration": 309,
    "start_time": "2021-11-09T18:56:46.434Z"
   },
   {
    "duration": 13,
    "start_time": "2021-11-09T18:56:50.613Z"
   },
   {
    "duration": 18,
    "start_time": "2021-11-09T18:59:17.524Z"
   },
   {
    "duration": 13,
    "start_time": "2021-11-09T19:00:39.097Z"
   },
   {
    "duration": 17,
    "start_time": "2021-11-09T19:00:52.148Z"
   },
   {
    "duration": 15,
    "start_time": "2021-11-09T19:28:14.480Z"
   },
   {
    "duration": 9,
    "start_time": "2021-11-09T19:28:41.355Z"
   },
   {
    "duration": 11,
    "start_time": "2021-11-09T19:34:53.266Z"
   },
   {
    "duration": 10,
    "start_time": "2021-11-09T19:34:56.394Z"
   },
   {
    "duration": 15,
    "start_time": "2021-11-09T19:37:26.607Z"
   },
   {
    "duration": 12,
    "start_time": "2021-11-09T19:38:47.483Z"
   },
   {
    "duration": 250,
    "start_time": "2021-11-09T20:18:58.069Z"
   },
   {
    "duration": 23,
    "start_time": "2021-11-09T20:19:01.732Z"
   },
   {
    "duration": 253,
    "start_time": "2021-11-09T20:19:16.799Z"
   },
   {
    "duration": 21,
    "start_time": "2021-11-09T20:19:23.287Z"
   },
   {
    "duration": 20,
    "start_time": "2021-11-09T20:19:30.592Z"
   },
   {
    "duration": 17,
    "start_time": "2021-11-09T20:19:33.396Z"
   },
   {
    "duration": 16,
    "start_time": "2021-11-09T20:19:41.343Z"
   },
   {
    "duration": 17,
    "start_time": "2021-11-09T20:19:49.109Z"
   },
   {
    "duration": 18,
    "start_time": "2021-11-09T20:19:58.218Z"
   },
   {
    "duration": 19,
    "start_time": "2021-11-09T20:20:07.231Z"
   },
   {
    "duration": 254,
    "start_time": "2021-11-09T20:20:37.643Z"
   },
   {
    "duration": 254,
    "start_time": "2021-11-09T20:20:47.969Z"
   },
   {
    "duration": 314,
    "start_time": "2021-11-09T20:20:56.527Z"
   },
   {
    "duration": 275,
    "start_time": "2021-11-09T20:29:11.443Z"
   },
   {
    "duration": 8,
    "start_time": "2021-11-09T20:29:58.487Z"
   },
   {
    "duration": 10,
    "start_time": "2021-11-09T20:30:18.082Z"
   },
   {
    "duration": 8089,
    "start_time": "2021-11-09T20:35:46.068Z"
   },
   {
    "duration": 24,
    "start_time": "2021-11-09T20:36:25.339Z"
   },
   {
    "duration": 255,
    "start_time": "2021-11-09T20:36:48.622Z"
   },
   {
    "duration": 11,
    "start_time": "2021-11-09T20:36:52.457Z"
   },
   {
    "duration": 13,
    "start_time": "2021-11-09T20:39:14.716Z"
   },
   {
    "duration": 24,
    "start_time": "2021-11-09T20:39:22.937Z"
   },
   {
    "duration": 14,
    "start_time": "2021-11-09T20:39:31.962Z"
   },
   {
    "duration": 10,
    "start_time": "2021-11-09T20:39:38.239Z"
   },
   {
    "duration": 12,
    "start_time": "2021-11-09T20:39:43.511Z"
   },
   {
    "duration": 13,
    "start_time": "2021-11-09T20:40:10.049Z"
   },
   {
    "duration": 13,
    "start_time": "2021-11-09T20:40:35.202Z"
   },
   {
    "duration": 14,
    "start_time": "2021-11-09T20:40:42.286Z"
   },
   {
    "duration": 12,
    "start_time": "2021-11-09T20:40:51.169Z"
   },
   {
    "duration": 6,
    "start_time": "2021-11-09T20:41:05.251Z"
   },
   {
    "duration": 10,
    "start_time": "2021-11-09T20:41:07.940Z"
   },
   {
    "duration": 232,
    "start_time": "2021-11-09T20:41:28.877Z"
   },
   {
    "duration": 9,
    "start_time": "2021-11-09T20:41:33.545Z"
   },
   {
    "duration": 8,
    "start_time": "2021-11-09T20:42:08.854Z"
   },
   {
    "duration": 10,
    "start_time": "2021-11-09T20:42:15.283Z"
   },
   {
    "duration": 9,
    "start_time": "2021-11-09T20:42:28.919Z"
   },
   {
    "duration": 8,
    "start_time": "2021-11-09T20:42:38.377Z"
   },
   {
    "duration": 8,
    "start_time": "2021-11-09T20:42:40.638Z"
   },
   {
    "duration": 8,
    "start_time": "2021-11-09T20:42:46.357Z"
   },
   {
    "duration": 18,
    "start_time": "2021-11-09T20:42:51.829Z"
   },
   {
    "duration": 9,
    "start_time": "2021-11-09T20:43:01.542Z"
   },
   {
    "duration": 86,
    "start_time": "2021-11-09T20:43:06.412Z"
   },
   {
    "duration": 10,
    "start_time": "2021-11-09T20:44:54.760Z"
   },
   {
    "duration": 8,
    "start_time": "2021-11-09T20:46:29.325Z"
   },
   {
    "duration": 22,
    "start_time": "2021-11-09T20:47:41.600Z"
   },
   {
    "duration": 21,
    "start_time": "2021-11-09T20:47:48.848Z"
   },
   {
    "duration": 20,
    "start_time": "2021-11-09T20:47:58.570Z"
   },
   {
    "duration": 83,
    "start_time": "2021-11-09T20:48:14.774Z"
   },
   {
    "duration": 21,
    "start_time": "2021-11-09T20:48:16.978Z"
   },
   {
    "duration": 37,
    "start_time": "2021-11-09T20:48:32.135Z"
   },
   {
    "duration": 38,
    "start_time": "2021-11-09T20:48:43.500Z"
   },
   {
    "duration": 84,
    "start_time": "2021-11-09T20:49:08.926Z"
   },
   {
    "duration": 253,
    "start_time": "2021-11-09T20:49:12.963Z"
   },
   {
    "duration": 7,
    "start_time": "2021-11-09T20:49:24.589Z"
   },
   {
    "duration": 459,
    "start_time": "2021-11-09T20:49:35.284Z"
   },
   {
    "duration": 292,
    "start_time": "2021-11-09T20:49:53.477Z"
   },
   {
    "duration": 7178,
    "start_time": "2021-11-09T20:50:09.995Z"
   },
   {
    "duration": 7,
    "start_time": "2021-11-09T20:50:31.517Z"
   },
   {
    "duration": 15,
    "start_time": "2021-11-09T20:52:11.880Z"
   },
   {
    "duration": 12,
    "start_time": "2021-11-09T20:52:20.214Z"
   },
   {
    "duration": -307,
    "start_time": "2021-11-09T20:52:42.823Z"
   },
   {
    "duration": 6023,
    "start_time": "2021-11-09T20:52:57.165Z"
   },
   {
    "duration": 6019,
    "start_time": "2021-11-09T20:53:21.000Z"
   },
   {
    "duration": 240,
    "start_time": "2021-11-09T20:53:34.977Z"
   },
   {
    "duration": 5798,
    "start_time": "2021-11-09T20:53:42.139Z"
   },
   {
    "duration": 16,
    "start_time": "2021-11-09T20:53:57.244Z"
   },
   {
    "duration": 6,
    "start_time": "2021-11-09T20:54:58.539Z"
   },
   {
    "duration": 8,
    "start_time": "2021-11-09T20:55:02.169Z"
   },
   {
    "duration": 658,
    "start_time": "2021-11-09T21:05:21.569Z"
   },
   {
    "duration": 20,
    "start_time": "2021-11-09T21:05:22.229Z"
   },
   {
    "duration": 29,
    "start_time": "2021-11-09T21:05:22.252Z"
   },
   {
    "duration": 32,
    "start_time": "2021-11-09T21:05:22.282Z"
   },
   {
    "duration": 13,
    "start_time": "2021-11-09T21:05:22.315Z"
   },
   {
    "duration": 40,
    "start_time": "2021-11-09T21:05:22.329Z"
   },
   {
    "duration": 14,
    "start_time": "2021-11-09T21:05:22.370Z"
   },
   {
    "duration": 14,
    "start_time": "2021-11-09T21:05:22.386Z"
   },
   {
    "duration": 7,
    "start_time": "2021-11-09T21:05:22.402Z"
   },
   {
    "duration": 52,
    "start_time": "2021-11-09T21:06:08.281Z"
   },
   {
    "duration": 649,
    "start_time": "2021-11-10T07:34:06.174Z"
   },
   {
    "duration": 18,
    "start_time": "2021-11-10T07:34:06.825Z"
   },
   {
    "duration": 21,
    "start_time": "2021-11-10T07:34:06.845Z"
   },
   {
    "duration": 34,
    "start_time": "2021-11-10T07:34:06.868Z"
   },
   {
    "duration": 12,
    "start_time": "2021-11-10T07:34:06.904Z"
   },
   {
    "duration": 26,
    "start_time": "2021-11-10T07:34:06.918Z"
   },
   {
    "duration": 32,
    "start_time": "2021-11-10T07:34:06.945Z"
   },
   {
    "duration": 19,
    "start_time": "2021-11-10T07:34:06.979Z"
   },
   {
    "duration": 14,
    "start_time": "2021-11-10T07:34:07.000Z"
   },
   {
    "duration": 338,
    "start_time": "2021-12-13T02:32:29.710Z"
   },
   {
    "duration": 792,
    "start_time": "2021-12-13T02:32:36.217Z"
   },
   {
    "duration": 20,
    "start_time": "2021-12-13T02:32:37.011Z"
   },
   {
    "duration": 28,
    "start_time": "2021-12-13T02:32:37.033Z"
   },
   {
    "duration": 33,
    "start_time": "2021-12-13T02:32:37.063Z"
   },
   {
    "duration": 12,
    "start_time": "2021-12-13T02:32:37.098Z"
   },
   {
    "duration": 39,
    "start_time": "2021-12-13T02:32:37.112Z"
   },
   {
    "duration": 17,
    "start_time": "2021-12-13T02:32:37.153Z"
   },
   {
    "duration": 13,
    "start_time": "2021-12-13T02:32:37.172Z"
   },
   {
    "duration": 303,
    "start_time": "2021-12-13T02:32:37.187Z"
   },
   {
    "duration": 416,
    "start_time": "2021-12-13T02:32:41.256Z"
   },
   {
    "duration": 909,
    "start_time": "2021-12-13T02:32:51.905Z"
   },
   {
    "duration": 7,
    "start_time": "2021-12-13T02:32:59.608Z"
   },
   {
    "duration": 12,
    "start_time": "2021-12-13T02:33:14.709Z"
   },
   {
    "duration": 7,
    "start_time": "2021-12-13T02:36:20.286Z"
   },
   {
    "duration": 8,
    "start_time": "2021-12-13T02:36:27.823Z"
   },
   {
    "duration": 8,
    "start_time": "2021-12-13T02:36:30.766Z"
   },
   {
    "duration": 9,
    "start_time": "2021-12-13T02:36:33.050Z"
   },
   {
    "duration": 7,
    "start_time": "2021-12-13T17:51:04.315Z"
   },
   {
    "duration": 8,
    "start_time": "2021-12-13T18:03:26.239Z"
   },
   {
    "duration": 204,
    "start_time": "2021-12-13T18:04:00.437Z"
   },
   {
    "duration": 230,
    "start_time": "2021-12-13T18:04:13.005Z"
   },
   {
    "duration": 213,
    "start_time": "2021-12-13T18:04:28.291Z"
   },
   {
    "duration": 15,
    "start_time": "2021-12-13T18:05:23.111Z"
   },
   {
    "duration": 213,
    "start_time": "2021-12-13T18:05:57.526Z"
   },
   {
    "duration": 633,
    "start_time": "2021-12-13T18:08:32.712Z"
   },
   {
    "duration": 691,
    "start_time": "2021-12-13T18:10:14.267Z"
   },
   {
    "duration": 785,
    "start_time": "2021-12-13T18:10:48.183Z"
   },
   {
    "duration": 624,
    "start_time": "2021-12-13T18:11:13.400Z"
   },
   {
    "duration": 622,
    "start_time": "2021-12-13T18:11:24.557Z"
   },
   {
    "duration": 626,
    "start_time": "2021-12-13T18:12:54.200Z"
   },
   {
    "duration": 263,
    "start_time": "2021-12-13T18:13:17.120Z"
   },
   {
    "duration": 247,
    "start_time": "2021-12-13T18:14:15.102Z"
   },
   {
    "duration": 248,
    "start_time": "2021-12-13T18:14:51.189Z"
   },
   {
    "duration": 618,
    "start_time": "2021-12-13T18:15:05.178Z"
   },
   {
    "duration": 152,
    "start_time": "2021-12-13T18:16:26.812Z"
   },
   {
    "duration": 122,
    "start_time": "2021-12-13T18:16:31.253Z"
   },
   {
    "duration": 83,
    "start_time": "2021-12-13T18:16:34.000Z"
   },
   {
    "duration": 636,
    "start_time": "2021-12-13T18:16:39.645Z"
   },
   {
    "duration": 647,
    "start_time": "2021-12-13T18:16:55.586Z"
   },
   {
    "duration": 242,
    "start_time": "2021-12-13T18:17:00.144Z"
   },
   {
    "duration": 15,
    "start_time": "2021-12-13T18:18:13.870Z"
   },
   {
    "duration": 13,
    "start_time": "2021-12-13T18:18:33.049Z"
   },
   {
    "duration": 989,
    "start_time": "2021-12-13T18:22:00.847Z"
   },
   {
    "duration": 249,
    "start_time": "2021-12-13T18:22:16.558Z"
   },
   {
    "duration": 240,
    "start_time": "2021-12-13T18:22:23.108Z"
   },
   {
    "duration": 590,
    "start_time": "2021-12-13T18:22:45.372Z"
   },
   {
    "duration": 628,
    "start_time": "2021-12-13T18:22:49.930Z"
   },
   {
    "duration": 241,
    "start_time": "2021-12-13T18:22:53.564Z"
   },
   {
    "duration": 581,
    "start_time": "2021-12-13T18:22:57.671Z"
   },
   {
    "duration": 585,
    "start_time": "2021-12-13T18:23:28.113Z"
   },
   {
    "duration": 588,
    "start_time": "2021-12-13T18:23:53.270Z"
   },
   {
    "duration": 677,
    "start_time": "2021-12-13T18:24:04.084Z"
   },
   {
    "duration": 608,
    "start_time": "2021-12-13T18:26:00.677Z"
   },
   {
    "duration": 605,
    "start_time": "2021-12-13T18:26:10.262Z"
   },
   {
    "duration": 616,
    "start_time": "2021-12-13T18:26:31.224Z"
   },
   {
    "duration": 613,
    "start_time": "2021-12-13T18:26:36.433Z"
   },
   {
    "duration": 238,
    "start_time": "2021-12-13T18:26:47.377Z"
   },
   {
    "duration": 242,
    "start_time": "2021-12-13T18:26:59.751Z"
   },
   {
    "duration": 243,
    "start_time": "2021-12-13T18:27:19.162Z"
   },
   {
    "duration": 254,
    "start_time": "2021-12-13T18:27:48.930Z"
   },
   {
    "duration": 28,
    "start_time": "2021-12-13T18:28:02.877Z"
   },
   {
    "duration": 28,
    "start_time": "2021-12-13T18:28:11.893Z"
   },
   {
    "duration": 29,
    "start_time": "2021-12-13T18:28:22.337Z"
   },
   {
    "duration": 27,
    "start_time": "2021-12-13T18:28:29.742Z"
   },
   {
    "duration": 38,
    "start_time": "2021-12-13T18:45:52.694Z"
   },
   {
    "duration": 101,
    "start_time": "2021-12-13T18:49:20.160Z"
   },
   {
    "duration": 291,
    "start_time": "2021-12-13T18:49:52.681Z"
   },
   {
    "duration": 1286,
    "start_time": "2021-12-13T18:59:06.299Z"
   },
   {
    "duration": 812,
    "start_time": "2021-12-13T18:59:17.991Z"
   },
   {
    "duration": 307,
    "start_time": "2021-12-13T19:00:04.653Z"
   },
   {
    "duration": 294,
    "start_time": "2021-12-13T19:00:24.616Z"
   },
   {
    "duration": 338,
    "start_time": "2021-12-13T19:00:48.109Z"
   },
   {
    "duration": 290,
    "start_time": "2021-12-13T19:01:02.213Z"
   },
   {
    "duration": 105,
    "start_time": "2021-12-13T19:01:38.575Z"
   },
   {
    "duration": 1002,
    "start_time": "2021-12-13T19:01:43.947Z"
   },
   {
    "duration": 324,
    "start_time": "2021-12-13T19:01:49.720Z"
   },
   {
    "duration": 301,
    "start_time": "2021-12-13T19:02:02.795Z"
   },
   {
    "duration": 290,
    "start_time": "2021-12-13T19:02:14.800Z"
   },
   {
    "duration": 306,
    "start_time": "2021-12-13T19:03:19.531Z"
   },
   {
    "duration": 316,
    "start_time": "2021-12-13T19:03:42.114Z"
   },
   {
    "duration": 287,
    "start_time": "2021-12-13T19:04:18.397Z"
   },
   {
    "duration": 277,
    "start_time": "2021-12-13T19:04:25.015Z"
   },
   {
    "duration": 290,
    "start_time": "2021-12-13T19:04:32.224Z"
   },
   {
    "duration": 18,
    "start_time": "2021-12-13T19:05:40.221Z"
   },
   {
    "duration": 258,
    "start_time": "2021-12-13T19:05:48.986Z"
   },
   {
    "duration": 96,
    "start_time": "2021-12-13T19:07:10.718Z"
   },
   {
    "duration": 287,
    "start_time": "2021-12-13T19:07:13.848Z"
   },
   {
    "duration": 1392,
    "start_time": "2021-12-13T19:08:00.230Z"
   },
   {
    "duration": 301,
    "start_time": "2021-12-13T19:08:08.417Z"
   },
   {
    "duration": 264,
    "start_time": "2021-12-13T19:09:37.554Z"
   },
   {
    "duration": 301,
    "start_time": "2021-12-13T19:10:57.817Z"
   },
   {
    "duration": 290,
    "start_time": "2021-12-13T19:11:28.565Z"
   },
   {
    "duration": 321,
    "start_time": "2021-12-13T19:11:46.433Z"
   },
   {
    "duration": 98,
    "start_time": "2021-12-13T19:11:59.756Z"
   },
   {
    "duration": 782,
    "start_time": "2021-12-13T19:12:03.188Z"
   },
   {
    "duration": 793,
    "start_time": "2021-12-13T19:12:10.213Z"
   },
   {
    "duration": 731,
    "start_time": "2021-12-13T19:12:23.374Z"
   },
   {
    "duration": 1375,
    "start_time": "2021-12-13T19:13:27.497Z"
   },
   {
    "duration": 736,
    "start_time": "2021-12-13T19:14:51.138Z"
   },
   {
    "duration": 269,
    "start_time": "2021-12-13T19:15:14.155Z"
   },
   {
    "duration": 721,
    "start_time": "2021-12-13T19:15:23.824Z"
   },
   {
    "duration": 305,
    "start_time": "2021-12-13T19:15:48.277Z"
   },
   {
    "duration": 265,
    "start_time": "2021-12-13T19:15:58.568Z"
   },
   {
    "duration": 271,
    "start_time": "2021-12-13T19:16:04.596Z"
   },
   {
    "duration": 307,
    "start_time": "2021-12-13T19:16:51.481Z"
   },
   {
    "duration": 273,
    "start_time": "2021-12-13T19:17:06.758Z"
   },
   {
    "duration": 287,
    "start_time": "2021-12-13T19:17:51.544Z"
   },
   {
    "duration": 262,
    "start_time": "2021-12-13T19:24:53.693Z"
   },
   {
    "duration": 297,
    "start_time": "2021-12-13T19:24:59.920Z"
   },
   {
    "duration": 317,
    "start_time": "2021-12-13T19:25:29.116Z"
   },
   {
    "duration": 272,
    "start_time": "2021-12-13T19:25:33.601Z"
   },
   {
    "duration": 278,
    "start_time": "2021-12-13T19:43:27.820Z"
   },
   {
    "duration": 301,
    "start_time": "2021-12-13T19:43:34.698Z"
   },
   {
    "duration": 273,
    "start_time": "2021-12-13T19:43:40.534Z"
   },
   {
    "duration": 24,
    "start_time": "2021-12-13T19:44:13.613Z"
   },
   {
    "duration": 25,
    "start_time": "2021-12-13T19:44:18.908Z"
   },
   {
    "duration": 27,
    "start_time": "2021-12-13T19:45:43.105Z"
   },
   {
    "duration": 269,
    "start_time": "2021-12-13T19:45:53.319Z"
   },
   {
    "duration": 262,
    "start_time": "2021-12-13T19:45:57.651Z"
   },
   {
    "duration": 47,
    "start_time": "2021-12-13T19:49:24.551Z"
   },
   {
    "duration": 39,
    "start_time": "2021-12-13T19:49:34.240Z"
   },
   {
    "duration": 34,
    "start_time": "2021-12-13T19:49:48.374Z"
   },
   {
    "duration": 35,
    "start_time": "2021-12-13T19:49:56.286Z"
   },
   {
    "duration": 1298,
    "start_time": "2021-12-13T19:50:11.545Z"
   },
   {
    "duration": 27,
    "start_time": "2021-12-13T19:50:25.980Z"
   },
   {
    "duration": 31,
    "start_time": "2021-12-13T19:53:21.665Z"
   },
   {
    "duration": 706,
    "start_time": "2021-12-13T19:53:50.423Z"
   },
   {
    "duration": 25,
    "start_time": "2021-12-13T19:53:51.131Z"
   },
   {
    "duration": 21,
    "start_time": "2021-12-13T19:53:51.159Z"
   },
   {
    "duration": 33,
    "start_time": "2021-12-13T19:53:51.181Z"
   },
   {
    "duration": 41,
    "start_time": "2021-12-13T19:53:51.216Z"
   },
   {
    "duration": 21,
    "start_time": "2021-12-13T19:53:51.259Z"
   },
   {
    "duration": 15,
    "start_time": "2021-12-13T19:53:51.282Z"
   },
   {
    "duration": 28,
    "start_time": "2021-12-13T19:53:51.299Z"
   },
   {
    "duration": 1009,
    "start_time": "2021-12-13T19:53:53.467Z"
   },
   {
    "duration": 276,
    "start_time": "2021-12-13T20:11:38.822Z"
   },
   {
    "duration": 6735,
    "start_time": "2021-12-13T20:11:48.479Z"
   },
   {
    "duration": 170,
    "start_time": "2021-12-13T20:12:30.961Z"
   },
   {
    "duration": 29,
    "start_time": "2021-12-13T20:12:35.789Z"
   },
   {
    "duration": 1244,
    "start_time": "2021-12-13T20:15:39.013Z"
   },
   {
    "duration": 729,
    "start_time": "2021-12-13T20:15:56.437Z"
   },
   {
    "duration": 612,
    "start_time": "2021-12-13T21:14:32.563Z"
   },
   {
    "duration": 340,
    "start_time": "2021-12-13T21:47:09.247Z"
   },
   {
    "duration": 681,
    "start_time": "2021-12-13T21:47:17.031Z"
   },
   {
    "duration": 20,
    "start_time": "2021-12-13T21:47:17.714Z"
   },
   {
    "duration": 28,
    "start_time": "2021-12-13T21:47:17.737Z"
   },
   {
    "duration": 34,
    "start_time": "2021-12-13T21:47:17.767Z"
   },
   {
    "duration": 13,
    "start_time": "2021-12-13T21:47:17.802Z"
   },
   {
    "duration": 46,
    "start_time": "2021-12-13T21:47:17.817Z"
   },
   {
    "duration": 14,
    "start_time": "2021-12-13T21:47:17.865Z"
   },
   {
    "duration": 21,
    "start_time": "2021-12-13T21:47:17.882Z"
   },
   {
    "duration": 1284,
    "start_time": "2021-12-13T21:47:17.905Z"
   },
   {
    "duration": 855,
    "start_time": "2021-12-14T10:28:07.149Z"
   },
   {
    "duration": 39,
    "start_time": "2021-12-14T10:28:08.008Z"
   },
   {
    "duration": 30,
    "start_time": "2021-12-14T10:28:08.051Z"
   },
   {
    "duration": 88,
    "start_time": "2021-12-14T10:28:08.084Z"
   },
   {
    "duration": 20,
    "start_time": "2021-12-14T10:28:08.174Z"
   },
   {
    "duration": 60,
    "start_time": "2021-12-14T10:28:08.196Z"
   },
   {
    "duration": 31,
    "start_time": "2021-12-14T10:28:08.260Z"
   },
   {
    "duration": 50,
    "start_time": "2021-12-14T10:28:08.296Z"
   },
   {
    "duration": 1825,
    "start_time": "2021-12-14T10:28:08.349Z"
   }
  ],
  "kernelspec": {
   "display_name": "Python 3 (ipykernel)",
   "language": "python",
   "name": "python3"
  },
  "language_info": {
   "codemirror_mode": {
    "name": "ipython",
    "version": 3
   },
   "file_extension": ".py",
   "mimetype": "text/x-python",
   "name": "python",
   "nbconvert_exporter": "python",
   "pygments_lexer": "ipython3",
   "version": "3.9.5"
  },
  "toc": {
   "base_numbering": 1,
   "nav_menu": {},
   "number_sections": true,
   "sideBar": true,
   "skip_h1_title": true,
   "title_cell": "Table of Contents",
   "title_sidebar": "Contents",
   "toc_cell": false,
   "toc_position": {},
   "toc_section_display": true,
   "toc_window_display": false
  }
 },
 "nbformat": 4,
 "nbformat_minor": 2
}
